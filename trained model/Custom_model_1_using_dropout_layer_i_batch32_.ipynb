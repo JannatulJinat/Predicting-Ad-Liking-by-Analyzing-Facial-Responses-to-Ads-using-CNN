{
  "nbformat": 4,
  "nbformat_minor": 0,
  "metadata": {
    "colab": {
      "name": "Custom model 1 using dropout layer i_batch32 .ipynb",
      "provenance": [],
      "collapsed_sections": [],
      "toc_visible": true
    },
    "kernelspec": {
      "name": "python3",
      "display_name": "Python 3"
    },
    "accelerator": "GPU"
  },
  "cells": [
    {
      "cell_type": "markdown",
      "metadata": {
        "id": "D51Z7hxuqxsP"
      },
      "source": [
        "config\n",
        "Runtime ->Change runtime type ->select GPU"
      ]
    },
    {
      "cell_type": "markdown",
      "metadata": {
        "id": "O6LVHiqMqYsW"
      },
      "source": [
        "#Mount Drive"
      ]
    },
    {
      "cell_type": "code",
      "metadata": {
        "id": "5G7peFnSqW7b",
        "colab": {
          "base_uri": "https://localhost:8080/"
        },
        "outputId": "9ab8d300-bfb2-416f-922d-b6c52e135d95"
      },
      "source": [
        "from google.colab import drive\n",
        "drive.mount('/content/drive')"
      ],
      "execution_count": null,
      "outputs": [
        {
          "output_type": "stream",
          "text": [
            "Mounted at /content/drive\n"
          ],
          "name": "stdout"
        }
      ]
    },
    {
      "cell_type": "markdown",
      "metadata": {
        "id": "8Itb9f4qsLA_"
      },
      "source": [
        "Unzip data"
      ]
    },
    {
      "cell_type": "code",
      "metadata": {
        "id": "D71l21TJsTvc",
        "colab": {
          "base_uri": "https://localhost:8080/"
        },
        "outputId": "59518e19-c239-4c4b-a68b-75dfeed86454"
      },
      "source": [
        "from zipfile import ZipFile\n",
        "file_path = \"/content/drive/My Drive/Colab Notebooks/Thesis/image_data.zip\"\n",
        "with ZipFile(file_path,'r') as zip:\n",
        "    zip.extractall()\n",
        "    print(\"Done\") "
      ],
      "execution_count": null,
      "outputs": [
        {
          "output_type": "stream",
          "text": [
            "Done\n"
          ],
          "name": "stdout"
        }
      ]
    },
    {
      "cell_type": "markdown",
      "metadata": {
        "id": "ThkuevyFtEos"
      },
      "source": [
        "#Count data "
      ]
    },
    {
      "cell_type": "code",
      "metadata": {
        "id": "rCVe2ItEtM-a",
        "colab": {
          "base_uri": "https://localhost:8080/"
        },
        "outputId": "d8a90d8c-c41a-4698-85c1-e1494d33b1af"
      },
      "source": [
        "import os\n",
        "total_training_samples = 0\n",
        "for expression in os.listdir(\"/content/image_data/train\"):    \n",
        "    num = len(os.listdir(\"/content/image_data/train/\"+expression))\n",
        "    total_training_samples += num\n",
        "    print(expression +\" \"+str(num)+\" \"+\"images \")\n",
        "\n",
        "print(\"Total training samples : \",total_training_samples)"
      ],
      "execution_count": null,
      "outputs": [
        {
          "output_type": "stream",
          "text": [
            "anger 1440 images \n",
            "sadness 1440 images \n",
            "happiness 1440 images \n",
            "fear 1440 images \n",
            "surprise 1440 images \n",
            "neutral 1440 images \n",
            "disgust 1440 images \n",
            "Total training samples :  10080\n"
          ],
          "name": "stdout"
        }
      ]
    },
    {
      "cell_type": "code",
      "metadata": {
        "id": "pq8p8nGRBkM9",
        "colab": {
          "base_uri": "https://localhost:8080/"
        },
        "outputId": "0c213d77-4580-4db7-ada9-900b06125574"
      },
      "source": [
        "total_validation_samples = 0\n",
        "for expression in os.listdir(\"/content/image_data/validation\"):\n",
        "    num = len(os.listdir(\"/content/image_data/validation/\"+expression))\n",
        "    total_validation_samples += num\n",
        "    print(expression +\" \"+str(num)+\" \"+\"images \")\n",
        "\n",
        "print(\"Total validation samples : \",total_validation_samples)"
      ],
      "execution_count": null,
      "outputs": [
        {
          "output_type": "stream",
          "text": [
            "anger 360 images \n",
            "sadness 360 images \n",
            "happiness 360 images \n",
            "fear 360 images \n",
            "surprise 360 images \n",
            "neutral 360 images \n",
            "disgust 360 images \n",
            "Total validation samples :  2520\n"
          ],
          "name": "stdout"
        }
      ]
    },
    {
      "cell_type": "markdown",
      "metadata": {
        "id": "5-eBA5rfwuK6"
      },
      "source": [
        "#Data Augmentation"
      ]
    },
    {
      "cell_type": "code",
      "metadata": {
        "id": "4wtA30IDwt6P",
        "colab": {
          "base_uri": "https://localhost:8080/"
        },
        "outputId": "07de4a9c-1852-4441-ea9c-12e29fafb693"
      },
      "source": [
        "from tensorflow.keras.preprocessing.image import ImageDataGenerator\n",
        "image_size = 48\n",
        "batch_size = 32\n",
        "\n",
        "datagen_train = ImageDataGenerator(rescale=1./255, \n",
        "                                   zoom_range=0.1, \n",
        "                                   rotation_range=10, \n",
        "                                   shear_range = 0.1, \n",
        "                                   horizontal_flip=True, \n",
        "                                   fill_mode=\"nearest\")\n",
        "\n",
        "train_generator = datagen_train.flow_from_directory(\"/content/image_data/train/\",\n",
        "                                                    target_size=(image_size,image_size),\n",
        "                                                    color_mode=\"grayscale\",\n",
        "                                                    batch_size=batch_size,\n",
        "                                                    class_mode='categorical',\n",
        "                                                    shuffle=True)\n",
        "\n",
        "datagen_validation = ImageDataGenerator(rescale=1./255)\n",
        "\n",
        "validation_generator = datagen_validation.flow_from_directory(\"/content/image_data/validation/\",\n",
        "                                                    target_size=(image_size,image_size),\n",
        "                                                    color_mode=\"grayscale\",\n",
        "                                                    batch_size=batch_size,\n",
        "                                                    class_mode='categorical',\n",
        "                                                    shuffle=True)"
      ],
      "execution_count": null,
      "outputs": [
        {
          "output_type": "stream",
          "text": [
            "Found 10080 images belonging to 7 classes.\n",
            "Found 2520 images belonging to 7 classes.\n"
          ],
          "name": "stdout"
        }
      ]
    },
    {
      "cell_type": "code",
      "metadata": {
        "id": "lyAl9YAkrNLl",
        "colab": {
          "base_uri": "https://localhost:8080/"
        },
        "outputId": "e0c57edb-ac45-4f59-97bf-2fb8168da556"
      },
      "source": [
        "import numpy as np\n",
        "import pandas as pd\n",
        "import matplotlib.pyplot as plt\n",
        "import tensorflow as tf\n",
        "\n",
        "from tensorflow.keras.models import Sequential\n",
        "from tensorflow.keras.layers import Dense, Dropout,Flatten, Conv2D\n",
        "from tensorflow.keras.layers import BatchNormalization, MaxPooling2D\n",
        "from tensorflow.keras.callbacks import ModelCheckpoint, ReduceLROnPlateau\n",
        "from tensorflow.keras.optimizers import Adam\n",
        "from tensorflow.keras.callbacks import EarlyStopping\n",
        "\n",
        "print(\"Tensorflow version:\", tf.__version__)\n"
      ],
      "execution_count": null,
      "outputs": [
        {
          "output_type": "stream",
          "text": [
            "Tensorflow version: 2.3.0\n"
          ],
          "name": "stdout"
        }
      ]
    },
    {
      "cell_type": "markdown",
      "metadata": {
        "id": "dQOKGM0RyDje"
      },
      "source": [
        "#Hyperparameter Tuning"
      ]
    },
    {
      "cell_type": "code",
      "metadata": {
        "id": "nQ8dWSJTyGRZ"
      },
      "source": [
        "epochs = 150\n",
        "lr = 0.001\n",
        "loss = \"categorical_crossentropy\"\n",
        "optimizer = Adam(learning_rate = lr )"
      ],
      "execution_count": null,
      "outputs": []
    },
    {
      "cell_type": "code",
      "metadata": {
        "id": "4yQ3wYQ0vU7y",
        "colab": {
          "base_uri": "https://localhost:8080/"
        },
        "outputId": "a4cef509-6976-4dc2-fb0f-74755e313e2c"
      },
      "source": [
        "model = Sequential()\n",
        "\n",
        "model.add(Conv2D(32 ,(3,3),activation='relu',input_shape = (48,48,1)))\n",
        "model.add(MaxPooling2D(pool_size=(2,2)))\n",
        "\n",
        "model.add(Conv2D(64,(3,3),activation='relu'))\n",
        "model.add(MaxPooling2D(pool_size=(2,2)))\n",
        "\n",
        "model.add(Conv2D(128,(3,3),activation='relu'))\n",
        "model.add(MaxPooling2D(pool_size=(2,2)))\n",
        "\n",
        "model.add(Flatten())\n",
        "\n",
        "model.add(Dropout(0.5))\n",
        "\n",
        "model.add(Dense(256,activation='relu'))\n",
        "model.add(Dropout(0.5))\n",
        "\n",
        "model.add(Dense(128,activation='relu'))\n",
        "model.add(Dropout(0.5))\n",
        "\n",
        "model.add(Dense(7,activation='softmax'))\n",
        "\n",
        "model.compile(optimizer =optimizer,loss = loss,metrics = ['accuracy'] )\n",
        "model.summary()"
      ],
      "execution_count": null,
      "outputs": [
        {
          "output_type": "stream",
          "text": [
            "Model: \"sequential\"\n",
            "_________________________________________________________________\n",
            "Layer (type)                 Output Shape              Param #   \n",
            "=================================================================\n",
            "conv2d (Conv2D)              (None, 46, 46, 32)        320       \n",
            "_________________________________________________________________\n",
            "max_pooling2d (MaxPooling2D) (None, 23, 23, 32)        0         \n",
            "_________________________________________________________________\n",
            "conv2d_1 (Conv2D)            (None, 21, 21, 64)        18496     \n",
            "_________________________________________________________________\n",
            "max_pooling2d_1 (MaxPooling2 (None, 10, 10, 64)        0         \n",
            "_________________________________________________________________\n",
            "conv2d_2 (Conv2D)            (None, 8, 8, 128)         73856     \n",
            "_________________________________________________________________\n",
            "max_pooling2d_2 (MaxPooling2 (None, 4, 4, 128)         0         \n",
            "_________________________________________________________________\n",
            "flatten (Flatten)            (None, 2048)              0         \n",
            "_________________________________________________________________\n",
            "dropout (Dropout)            (None, 2048)              0         \n",
            "_________________________________________________________________\n",
            "dense (Dense)                (None, 256)               524544    \n",
            "_________________________________________________________________\n",
            "dropout_1 (Dropout)          (None, 256)               0         \n",
            "_________________________________________________________________\n",
            "dense_1 (Dense)              (None, 128)               32896     \n",
            "_________________________________________________________________\n",
            "dropout_2 (Dropout)          (None, 128)               0         \n",
            "_________________________________________________________________\n",
            "dense_2 (Dense)              (None, 7)                 903       \n",
            "=================================================================\n",
            "Total params: 651,015\n",
            "Trainable params: 651,015\n",
            "Non-trainable params: 0\n",
            "_________________________________________________________________\n"
          ],
          "name": "stdout"
        }
      ]
    },
    {
      "cell_type": "code",
      "metadata": {
        "id": "rIDqQPvJiqIL",
        "colab": {
          "base_uri": "https://localhost:8080/",
          "height": 217
        },
        "outputId": "9a411355-1670-4066-df98-264dc57aa79f"
      },
      "source": [
        "from tensorflow.keras.utils import plot_model\n",
        "from IPython.display import Image\n",
        "\n",
        "plot_model(model, to_file='model.png', show_shapes=True, show_layer_names=True)\n",
        "Image('model_1.png',width=400, height=200)\n"
      ],
      "execution_count": null,
      "outputs": [
        {
          "output_type": "execute_result",
          "data": {
            "image/png": "model_1.png",
            "text/plain": [
              "<IPython.core.display.Image object>"
            ]
          },
          "metadata": {
            "tags": [],
            "image/png": {
              "width": 400,
              "height": 200
            }
          },
          "execution_count": 12
        }
      ]
    },
    {
      "cell_type": "code",
      "metadata": {
        "id": "CKGFabBGyjsE",
        "colab": {
          "base_uri": "https://localhost:8080/"
        },
        "outputId": "32b9f2d3-d299-4d96-9241-1b0dee7d34e0"
      },
      "source": [
        "print(train_generator.n)\n",
        "print(validation_generator.n)\n",
        "print(train_generator.batch_size)\n",
        "steps_per_epoch = train_generator.n //train_generator.batch_size\n",
        "validation_steps = validation_generator.n // validation_generator.batch_size\n",
        "\n",
        "#early_stopping = EarlyStopping(patience=5)\n",
        "\n",
        "history = model.fit( train_generator,\n",
        "                    steps_per_epoch = total_training_samples//batch_size,\n",
        "                    validation_data = validation_generator,\n",
        "                    validation_steps = total_validation_samples//batch_size,\n",
        "                    epochs = epochs)\n",
        "#callbacks=[early_stopping] "
      ],
      "execution_count": null,
      "outputs": [
        {
          "output_type": "stream",
          "text": [
            "10080\n",
            "2520\n",
            "32\n",
            "Epoch 1/150\n",
            "315/315 [==============================] - 7s 22ms/step - loss: 1.8385 - accuracy: 0.1989 - val_loss: 1.6565 - val_accuracy: 0.3133\n",
            "Epoch 2/150\n",
            "315/315 [==============================] - 7s 22ms/step - loss: 1.7074 - accuracy: 0.2887 - val_loss: 1.4370 - val_accuracy: 0.3850\n",
            "Epoch 3/150\n",
            "315/315 [==============================] - 7s 22ms/step - loss: 1.6096 - accuracy: 0.3414 - val_loss: 1.3473 - val_accuracy: 0.4427\n",
            "Epoch 4/150\n",
            "315/315 [==============================] - 7s 22ms/step - loss: 1.5475 - accuracy: 0.3845 - val_loss: 1.3288 - val_accuracy: 0.4467\n",
            "Epoch 5/150\n",
            "315/315 [==============================] - 7s 22ms/step - loss: 1.4852 - accuracy: 0.4096 - val_loss: 1.3052 - val_accuracy: 0.4808\n",
            "Epoch 6/150\n",
            "315/315 [==============================] - 7s 22ms/step - loss: 1.4463 - accuracy: 0.4266 - val_loss: 1.2631 - val_accuracy: 0.4856\n",
            "Epoch 7/150\n",
            "315/315 [==============================] - 7s 22ms/step - loss: 1.3851 - accuracy: 0.4523 - val_loss: 1.1925 - val_accuracy: 0.5068\n",
            "Epoch 8/150\n",
            "315/315 [==============================] - 7s 22ms/step - loss: 1.3433 - accuracy: 0.4760 - val_loss: 1.0775 - val_accuracy: 0.5673\n",
            "Epoch 9/150\n",
            "315/315 [==============================] - 7s 22ms/step - loss: 1.2840 - accuracy: 0.4989 - val_loss: 1.0535 - val_accuracy: 0.5713\n",
            "Epoch 10/150\n",
            "315/315 [==============================] - 7s 21ms/step - loss: 1.2670 - accuracy: 0.5084 - val_loss: 1.0634 - val_accuracy: 0.5505\n",
            "Epoch 11/150\n",
            "315/315 [==============================] - 7s 22ms/step - loss: 1.2209 - accuracy: 0.5287 - val_loss: 1.0079 - val_accuracy: 0.5721\n",
            "Epoch 12/150\n",
            "315/315 [==============================] - 7s 22ms/step - loss: 1.2107 - accuracy: 0.5287 - val_loss: 1.0086 - val_accuracy: 0.5861\n",
            "Epoch 13/150\n",
            "315/315 [==============================] - 7s 21ms/step - loss: 1.1896 - accuracy: 0.5428 - val_loss: 0.9847 - val_accuracy: 0.6230\n",
            "Epoch 14/150\n",
            "315/315 [==============================] - 7s 22ms/step - loss: 1.1675 - accuracy: 0.5484 - val_loss: 0.9815 - val_accuracy: 0.6122\n",
            "Epoch 15/150\n",
            "315/315 [==============================] - 7s 22ms/step - loss: 1.1538 - accuracy: 0.5568 - val_loss: 0.9039 - val_accuracy: 0.6603\n",
            "Epoch 16/150\n",
            "315/315 [==============================] - 7s 21ms/step - loss: 1.1233 - accuracy: 0.5665 - val_loss: 0.9385 - val_accuracy: 0.6418\n",
            "Epoch 17/150\n",
            "315/315 [==============================] - 7s 22ms/step - loss: 1.1049 - accuracy: 0.5816 - val_loss: 0.9515 - val_accuracy: 0.6382\n",
            "Epoch 18/150\n",
            "315/315 [==============================] - 7s 22ms/step - loss: 1.1009 - accuracy: 0.5781 - val_loss: 0.9055 - val_accuracy: 0.6490\n",
            "Epoch 19/150\n",
            "315/315 [==============================] - 7s 22ms/step - loss: 1.0923 - accuracy: 0.5858 - val_loss: 0.9196 - val_accuracy: 0.6310\n",
            "Epoch 20/150\n",
            "315/315 [==============================] - 7s 22ms/step - loss: 1.0678 - accuracy: 0.5983 - val_loss: 0.9254 - val_accuracy: 0.6330\n",
            "Epoch 21/150\n",
            "315/315 [==============================] - 7s 22ms/step - loss: 1.0712 - accuracy: 0.5963 - val_loss: 0.9210 - val_accuracy: 0.6342\n",
            "Epoch 22/150\n",
            "315/315 [==============================] - 7s 22ms/step - loss: 1.0611 - accuracy: 0.6040 - val_loss: 0.9061 - val_accuracy: 0.6430\n",
            "Epoch 23/150\n",
            "315/315 [==============================] - 7s 22ms/step - loss: 1.0521 - accuracy: 0.5981 - val_loss: 0.8504 - val_accuracy: 0.6715\n",
            "Epoch 24/150\n",
            "315/315 [==============================] - 7s 22ms/step - loss: 1.0294 - accuracy: 0.6100 - val_loss: 0.8812 - val_accuracy: 0.6663\n",
            "Epoch 25/150\n",
            "315/315 [==============================] - 7s 22ms/step - loss: 1.0253 - accuracy: 0.6142 - val_loss: 0.8722 - val_accuracy: 0.6695\n",
            "Epoch 26/150\n",
            "315/315 [==============================] - 7s 22ms/step - loss: 1.0368 - accuracy: 0.6083 - val_loss: 0.9641 - val_accuracy: 0.6242\n",
            "Epoch 27/150\n",
            "315/315 [==============================] - 7s 22ms/step - loss: 1.0024 - accuracy: 0.6256 - val_loss: 0.8436 - val_accuracy: 0.6927\n",
            "Epoch 28/150\n",
            "315/315 [==============================] - 7s 22ms/step - loss: 1.0094 - accuracy: 0.6202 - val_loss: 0.8496 - val_accuracy: 0.6891\n",
            "Epoch 29/150\n",
            "315/315 [==============================] - 7s 22ms/step - loss: 0.9877 - accuracy: 0.6318 - val_loss: 0.8865 - val_accuracy: 0.6691\n",
            "Epoch 30/150\n",
            "315/315 [==============================] - 7s 22ms/step - loss: 0.9800 - accuracy: 0.6278 - val_loss: 0.8690 - val_accuracy: 0.6667\n",
            "Epoch 31/150\n",
            "315/315 [==============================] - 7s 22ms/step - loss: 0.9867 - accuracy: 0.6354 - val_loss: 0.7952 - val_accuracy: 0.7043\n",
            "Epoch 32/150\n",
            "315/315 [==============================] - 7s 22ms/step - loss: 0.9789 - accuracy: 0.6371 - val_loss: 0.9016 - val_accuracy: 0.6526\n",
            "Epoch 33/150\n",
            "315/315 [==============================] - 7s 22ms/step - loss: 0.9656 - accuracy: 0.6415 - val_loss: 0.8170 - val_accuracy: 0.6895\n",
            "Epoch 34/150\n",
            "315/315 [==============================] - 7s 21ms/step - loss: 0.9642 - accuracy: 0.6356 - val_loss: 0.9068 - val_accuracy: 0.6579\n",
            "Epoch 35/150\n",
            "315/315 [==============================] - 7s 22ms/step - loss: 0.9692 - accuracy: 0.6425 - val_loss: 0.8915 - val_accuracy: 0.6498\n",
            "Epoch 36/150\n",
            "315/315 [==============================] - 7s 22ms/step - loss: 0.9607 - accuracy: 0.6454 - val_loss: 0.8179 - val_accuracy: 0.7019\n",
            "Epoch 37/150\n",
            "315/315 [==============================] - 7s 22ms/step - loss: 0.9451 - accuracy: 0.6483 - val_loss: 0.7895 - val_accuracy: 0.7079\n",
            "Epoch 38/150\n",
            "315/315 [==============================] - 7s 21ms/step - loss: 0.9363 - accuracy: 0.6533 - val_loss: 0.8270 - val_accuracy: 0.6863\n",
            "Epoch 39/150\n",
            "315/315 [==============================] - 7s 22ms/step - loss: 0.9480 - accuracy: 0.6529 - val_loss: 0.8042 - val_accuracy: 0.6975\n",
            "Epoch 40/150\n",
            "315/315 [==============================] - 7s 22ms/step - loss: 0.9295 - accuracy: 0.6501 - val_loss: 0.8087 - val_accuracy: 0.6975\n",
            "Epoch 41/150\n",
            "315/315 [==============================] - 7s 22ms/step - loss: 0.9337 - accuracy: 0.6515 - val_loss: 0.7882 - val_accuracy: 0.6955\n",
            "Epoch 42/150\n",
            "315/315 [==============================] - 7s 21ms/step - loss: 0.9231 - accuracy: 0.6565 - val_loss: 0.7928 - val_accuracy: 0.7023\n",
            "Epoch 43/150\n",
            "315/315 [==============================] - 7s 22ms/step - loss: 0.9354 - accuracy: 0.6494 - val_loss: 0.8088 - val_accuracy: 0.6963\n",
            "Epoch 44/150\n",
            "315/315 [==============================] - 7s 22ms/step - loss: 0.9184 - accuracy: 0.6572 - val_loss: 0.7993 - val_accuracy: 0.6863\n",
            "Epoch 45/150\n",
            "315/315 [==============================] - 7s 22ms/step - loss: 0.9210 - accuracy: 0.6570 - val_loss: 0.7792 - val_accuracy: 0.7051\n",
            "Epoch 46/150\n",
            "315/315 [==============================] - 7s 22ms/step - loss: 0.9146 - accuracy: 0.6645 - val_loss: 0.7755 - val_accuracy: 0.7071\n",
            "Epoch 47/150\n",
            "315/315 [==============================] - 7s 22ms/step - loss: 0.9145 - accuracy: 0.6635 - val_loss: 0.8759 - val_accuracy: 0.6659\n",
            "Epoch 48/150\n",
            "315/315 [==============================] - 7s 21ms/step - loss: 0.9059 - accuracy: 0.6681 - val_loss: 0.7734 - val_accuracy: 0.7075\n",
            "Epoch 49/150\n",
            "315/315 [==============================] - 7s 22ms/step - loss: 0.8908 - accuracy: 0.6678 - val_loss: 0.9036 - val_accuracy: 0.6747\n",
            "Epoch 50/150\n",
            "315/315 [==============================] - 7s 22ms/step - loss: 0.9003 - accuracy: 0.6704 - val_loss: 0.8008 - val_accuracy: 0.7027\n",
            "Epoch 51/150\n",
            "315/315 [==============================] - 7s 22ms/step - loss: 0.8955 - accuracy: 0.6692 - val_loss: 0.7921 - val_accuracy: 0.7043\n",
            "Epoch 52/150\n",
            "315/315 [==============================] - 7s 22ms/step - loss: 0.8897 - accuracy: 0.6697 - val_loss: 0.7879 - val_accuracy: 0.7051\n",
            "Epoch 53/150\n",
            "315/315 [==============================] - 7s 22ms/step - loss: 0.8826 - accuracy: 0.6718 - val_loss: 0.8182 - val_accuracy: 0.7031\n",
            "Epoch 54/150\n",
            "315/315 [==============================] - 7s 22ms/step - loss: 0.8812 - accuracy: 0.6735 - val_loss: 0.7682 - val_accuracy: 0.7139\n",
            "Epoch 55/150\n",
            "315/315 [==============================] - 7s 22ms/step - loss: 0.8779 - accuracy: 0.6766 - val_loss: 0.7770 - val_accuracy: 0.7135\n",
            "Epoch 56/150\n",
            "315/315 [==============================] - 7s 22ms/step - loss: 0.8721 - accuracy: 0.6813 - val_loss: 0.8321 - val_accuracy: 0.6819\n",
            "Epoch 57/150\n",
            "315/315 [==============================] - 7s 22ms/step - loss: 0.8814 - accuracy: 0.6782 - val_loss: 0.7722 - val_accuracy: 0.7095\n",
            "Epoch 58/150\n",
            "315/315 [==============================] - 7s 21ms/step - loss: 0.8777 - accuracy: 0.6774 - val_loss: 0.7784 - val_accuracy: 0.6959\n",
            "Epoch 59/150\n",
            "315/315 [==============================] - 7s 22ms/step - loss: 0.8608 - accuracy: 0.6838 - val_loss: 0.7836 - val_accuracy: 0.7011\n",
            "Epoch 60/150\n",
            "315/315 [==============================] - 7s 21ms/step - loss: 0.8699 - accuracy: 0.6806 - val_loss: 0.7726 - val_accuracy: 0.7075\n",
            "Epoch 61/150\n",
            "315/315 [==============================] - 7s 22ms/step - loss: 0.8593 - accuracy: 0.6805 - val_loss: 0.8082 - val_accuracy: 0.6879\n",
            "Epoch 62/150\n",
            "315/315 [==============================] - 7s 22ms/step - loss: 0.8496 - accuracy: 0.6873 - val_loss: 0.8024 - val_accuracy: 0.7075\n",
            "Epoch 63/150\n",
            "315/315 [==============================] - 7s 22ms/step - loss: 0.8739 - accuracy: 0.6833 - val_loss: 0.8137 - val_accuracy: 0.6875\n",
            "Epoch 64/150\n",
            "315/315 [==============================] - 7s 22ms/step - loss: 0.8510 - accuracy: 0.6864 - val_loss: 0.7833 - val_accuracy: 0.7059\n",
            "Epoch 65/150\n",
            "315/315 [==============================] - 7s 22ms/step - loss: 0.8484 - accuracy: 0.6870 - val_loss: 0.8240 - val_accuracy: 0.6795\n",
            "Epoch 66/150\n",
            "315/315 [==============================] - 7s 22ms/step - loss: 0.8566 - accuracy: 0.6876 - val_loss: 0.7846 - val_accuracy: 0.6991\n",
            "Epoch 67/150\n",
            "315/315 [==============================] - 7s 22ms/step - loss: 0.8491 - accuracy: 0.6852 - val_loss: 0.7641 - val_accuracy: 0.7095\n",
            "Epoch 68/150\n",
            "315/315 [==============================] - 7s 22ms/step - loss: 0.8313 - accuracy: 0.6949 - val_loss: 0.7675 - val_accuracy: 0.7107\n",
            "Epoch 69/150\n",
            "315/315 [==============================] - 7s 21ms/step - loss: 0.8441 - accuracy: 0.6832 - val_loss: 0.8127 - val_accuracy: 0.6939\n",
            "Epoch 70/150\n",
            "315/315 [==============================] - 7s 21ms/step - loss: 0.8391 - accuracy: 0.6964 - val_loss: 0.7756 - val_accuracy: 0.7127\n",
            "Epoch 71/150\n",
            "315/315 [==============================] - 7s 22ms/step - loss: 0.8298 - accuracy: 0.6989 - val_loss: 0.7734 - val_accuracy: 0.7059\n",
            "Epoch 72/150\n",
            "315/315 [==============================] - 7s 22ms/step - loss: 0.8411 - accuracy: 0.6932 - val_loss: 0.7798 - val_accuracy: 0.6975\n",
            "Epoch 73/150\n",
            "315/315 [==============================] - 7s 22ms/step - loss: 0.8194 - accuracy: 0.7004 - val_loss: 0.7436 - val_accuracy: 0.7196\n",
            "Epoch 74/150\n",
            "315/315 [==============================] - 7s 22ms/step - loss: 0.8312 - accuracy: 0.6996 - val_loss: 0.7523 - val_accuracy: 0.7228\n",
            "Epoch 75/150\n",
            "315/315 [==============================] - 7s 22ms/step - loss: 0.8421 - accuracy: 0.6944 - val_loss: 0.7905 - val_accuracy: 0.6935\n",
            "Epoch 76/150\n",
            "315/315 [==============================] - 7s 22ms/step - loss: 0.8242 - accuracy: 0.6978 - val_loss: 0.7553 - val_accuracy: 0.7035\n",
            "Epoch 77/150\n",
            "315/315 [==============================] - 7s 22ms/step - loss: 0.8075 - accuracy: 0.7027 - val_loss: 0.7444 - val_accuracy: 0.7260\n",
            "Epoch 78/150\n",
            "315/315 [==============================] - 7s 22ms/step - loss: 0.8206 - accuracy: 0.6984 - val_loss: 0.7510 - val_accuracy: 0.7131\n",
            "Epoch 79/150\n",
            "315/315 [==============================] - 7s 22ms/step - loss: 0.8010 - accuracy: 0.7046 - val_loss: 0.7988 - val_accuracy: 0.7031\n",
            "Epoch 80/150\n",
            "315/315 [==============================] - 7s 22ms/step - loss: 0.8141 - accuracy: 0.6962 - val_loss: 0.7410 - val_accuracy: 0.7264\n",
            "Epoch 81/150\n",
            "315/315 [==============================] - 7s 22ms/step - loss: 0.7996 - accuracy: 0.7011 - val_loss: 0.7956 - val_accuracy: 0.7095\n",
            "Epoch 82/150\n",
            "315/315 [==============================] - 7s 22ms/step - loss: 0.8113 - accuracy: 0.7013 - val_loss: 0.7570 - val_accuracy: 0.7183\n",
            "Epoch 83/150\n",
            "315/315 [==============================] - 7s 22ms/step - loss: 0.8205 - accuracy: 0.7007 - val_loss: 0.7751 - val_accuracy: 0.7131\n",
            "Epoch 84/150\n",
            "315/315 [==============================] - 7s 22ms/step - loss: 0.7997 - accuracy: 0.7055 - val_loss: 0.7820 - val_accuracy: 0.7067\n",
            "Epoch 85/150\n",
            "315/315 [==============================] - 7s 22ms/step - loss: 0.8274 - accuracy: 0.6981 - val_loss: 0.7645 - val_accuracy: 0.7192\n",
            "Epoch 86/150\n",
            "315/315 [==============================] - 7s 22ms/step - loss: 0.8083 - accuracy: 0.7057 - val_loss: 0.7499 - val_accuracy: 0.7188\n",
            "Epoch 87/150\n",
            "315/315 [==============================] - 7s 22ms/step - loss: 0.8088 - accuracy: 0.7069 - val_loss: 0.7419 - val_accuracy: 0.7167\n",
            "Epoch 88/150\n",
            "315/315 [==============================] - 7s 22ms/step - loss: 0.8082 - accuracy: 0.7072 - val_loss: 0.7686 - val_accuracy: 0.7232\n",
            "Epoch 89/150\n",
            "315/315 [==============================] - 7s 22ms/step - loss: 0.8089 - accuracy: 0.7096 - val_loss: 0.8023 - val_accuracy: 0.7091\n",
            "Epoch 90/150\n",
            "315/315 [==============================] - 7s 22ms/step - loss: 0.8016 - accuracy: 0.6975 - val_loss: 0.7185 - val_accuracy: 0.7316\n",
            "Epoch 91/150\n",
            "315/315 [==============================] - 7s 22ms/step - loss: 0.7982 - accuracy: 0.7058 - val_loss: 0.7502 - val_accuracy: 0.7312\n",
            "Epoch 92/150\n",
            "315/315 [==============================] - 7s 22ms/step - loss: 0.7913 - accuracy: 0.7060 - val_loss: 0.7933 - val_accuracy: 0.7011\n",
            "Epoch 93/150\n",
            "315/315 [==============================] - 7s 22ms/step - loss: 0.7985 - accuracy: 0.7098 - val_loss: 0.7335 - val_accuracy: 0.7316\n",
            "Epoch 94/150\n",
            "315/315 [==============================] - 7s 22ms/step - loss: 0.7915 - accuracy: 0.7148 - val_loss: 0.7386 - val_accuracy: 0.7304\n",
            "Epoch 95/150\n",
            "315/315 [==============================] - 7s 22ms/step - loss: 0.7852 - accuracy: 0.7152 - val_loss: 0.7474 - val_accuracy: 0.7196\n",
            "Epoch 96/150\n",
            "315/315 [==============================] - 7s 22ms/step - loss: 0.7834 - accuracy: 0.7147 - val_loss: 0.7655 - val_accuracy: 0.7059\n",
            "Epoch 97/150\n",
            "315/315 [==============================] - 7s 22ms/step - loss: 0.7759 - accuracy: 0.7162 - val_loss: 0.7421 - val_accuracy: 0.7260\n",
            "Epoch 98/150\n",
            "315/315 [==============================] - 7s 22ms/step - loss: 0.7812 - accuracy: 0.7195 - val_loss: 0.7367 - val_accuracy: 0.7328\n",
            "Epoch 99/150\n",
            "315/315 [==============================] - 7s 22ms/step - loss: 0.7912 - accuracy: 0.7075 - val_loss: 0.7654 - val_accuracy: 0.7159\n",
            "Epoch 100/150\n",
            "315/315 [==============================] - 7s 22ms/step - loss: 0.7826 - accuracy: 0.7117 - val_loss: 0.7995 - val_accuracy: 0.6991\n",
            "Epoch 101/150\n",
            "315/315 [==============================] - 7s 22ms/step - loss: 0.7816 - accuracy: 0.7106 - val_loss: 0.7715 - val_accuracy: 0.7188\n",
            "Epoch 102/150\n",
            "315/315 [==============================] - 7s 22ms/step - loss: 0.7879 - accuracy: 0.7098 - val_loss: 0.7594 - val_accuracy: 0.7163\n",
            "Epoch 103/150\n",
            "315/315 [==============================] - 7s 22ms/step - loss: 0.7695 - accuracy: 0.7229 - val_loss: 0.7515 - val_accuracy: 0.7183\n",
            "Epoch 104/150\n",
            "315/315 [==============================] - 7s 22ms/step - loss: 0.7642 - accuracy: 0.7211 - val_loss: 0.7367 - val_accuracy: 0.7280\n",
            "Epoch 105/150\n",
            "315/315 [==============================] - 7s 22ms/step - loss: 0.7609 - accuracy: 0.7298 - val_loss: 0.7222 - val_accuracy: 0.7312\n",
            "Epoch 106/150\n",
            "315/315 [==============================] - 7s 22ms/step - loss: 0.7616 - accuracy: 0.7238 - val_loss: 0.7537 - val_accuracy: 0.7280\n",
            "Epoch 107/150\n",
            "315/315 [==============================] - 7s 22ms/step - loss: 0.7848 - accuracy: 0.7185 - val_loss: 0.7275 - val_accuracy: 0.7352\n",
            "Epoch 108/150\n",
            "315/315 [==============================] - 7s 22ms/step - loss: 0.7739 - accuracy: 0.7163 - val_loss: 0.7431 - val_accuracy: 0.7228\n",
            "Epoch 109/150\n",
            "315/315 [==============================] - 7s 22ms/step - loss: 0.7638 - accuracy: 0.7230 - val_loss: 0.7932 - val_accuracy: 0.6999\n",
            "Epoch 110/150\n",
            "315/315 [==============================] - 7s 22ms/step - loss: 0.7631 - accuracy: 0.7301 - val_loss: 0.7507 - val_accuracy: 0.7304\n",
            "Epoch 111/150\n",
            "315/315 [==============================] - 7s 22ms/step - loss: 0.7759 - accuracy: 0.7225 - val_loss: 0.7614 - val_accuracy: 0.7067\n",
            "Epoch 112/150\n",
            "315/315 [==============================] - 7s 22ms/step - loss: 0.7755 - accuracy: 0.7143 - val_loss: 0.8133 - val_accuracy: 0.6967\n",
            "Epoch 113/150\n",
            "315/315 [==============================] - 7s 22ms/step - loss: 0.7716 - accuracy: 0.7190 - val_loss: 0.7831 - val_accuracy: 0.7071\n",
            "Epoch 114/150\n",
            "315/315 [==============================] - 7s 22ms/step - loss: 0.7759 - accuracy: 0.7153 - val_loss: 0.7971 - val_accuracy: 0.6887\n",
            "Epoch 115/150\n",
            "315/315 [==============================] - 7s 22ms/step - loss: 0.7760 - accuracy: 0.7179 - val_loss: 0.7246 - val_accuracy: 0.7348\n",
            "Epoch 116/150\n",
            "315/315 [==============================] - 7s 22ms/step - loss: 0.7560 - accuracy: 0.7230 - val_loss: 0.8206 - val_accuracy: 0.6927\n",
            "Epoch 117/150\n",
            "315/315 [==============================] - 7s 22ms/step - loss: 0.7667 - accuracy: 0.7220 - val_loss: 0.7506 - val_accuracy: 0.7212\n",
            "Epoch 118/150\n",
            "315/315 [==============================] - 7s 22ms/step - loss: 0.7651 - accuracy: 0.7189 - val_loss: 0.8131 - val_accuracy: 0.6951\n",
            "Epoch 119/150\n",
            "315/315 [==============================] - 7s 22ms/step - loss: 0.7503 - accuracy: 0.7268 - val_loss: 0.7558 - val_accuracy: 0.7196\n",
            "Epoch 120/150\n",
            "315/315 [==============================] - 7s 22ms/step - loss: 0.7524 - accuracy: 0.7284 - val_loss: 0.7474 - val_accuracy: 0.7224\n",
            "Epoch 121/150\n",
            "315/315 [==============================] - 7s 22ms/step - loss: 0.7524 - accuracy: 0.7249 - val_loss: 0.7559 - val_accuracy: 0.7284\n",
            "Epoch 122/150\n",
            "315/315 [==============================] - 7s 22ms/step - loss: 0.7482 - accuracy: 0.7265 - val_loss: 0.7461 - val_accuracy: 0.7288\n",
            "Epoch 123/150\n",
            "315/315 [==============================] - 7s 22ms/step - loss: 0.7515 - accuracy: 0.7219 - val_loss: 0.7626 - val_accuracy: 0.7204\n",
            "Epoch 124/150\n",
            "315/315 [==============================] - 7s 22ms/step - loss: 0.7462 - accuracy: 0.7300 - val_loss: 0.7331 - val_accuracy: 0.7336\n",
            "Epoch 125/150\n",
            "315/315 [==============================] - 7s 22ms/step - loss: 0.7403 - accuracy: 0.7295 - val_loss: 0.7633 - val_accuracy: 0.7208\n",
            "Epoch 126/150\n",
            "315/315 [==============================] - 7s 22ms/step - loss: 0.7503 - accuracy: 0.7275 - val_loss: 0.7296 - val_accuracy: 0.7328\n",
            "Epoch 127/150\n",
            "315/315 [==============================] - 7s 22ms/step - loss: 0.7577 - accuracy: 0.7269 - val_loss: 0.7387 - val_accuracy: 0.7236\n",
            "Epoch 128/150\n",
            "315/315 [==============================] - 7s 22ms/step - loss: 0.7526 - accuracy: 0.7269 - val_loss: 0.7683 - val_accuracy: 0.7091\n",
            "Epoch 129/150\n",
            "315/315 [==============================] - 7s 22ms/step - loss: 0.7489 - accuracy: 0.7268 - val_loss: 0.7381 - val_accuracy: 0.7272\n",
            "Epoch 130/150\n",
            "315/315 [==============================] - 7s 22ms/step - loss: 0.7487 - accuracy: 0.7254 - val_loss: 0.7246 - val_accuracy: 0.7388\n",
            "Epoch 131/150\n",
            "315/315 [==============================] - 7s 22ms/step - loss: 0.7526 - accuracy: 0.7290 - val_loss: 0.7519 - val_accuracy: 0.7204\n",
            "Epoch 132/150\n",
            "315/315 [==============================] - 7s 22ms/step - loss: 0.7317 - accuracy: 0.7263 - val_loss: 0.7322 - val_accuracy: 0.7300\n",
            "Epoch 133/150\n",
            "315/315 [==============================] - 7s 22ms/step - loss: 0.7347 - accuracy: 0.7303 - val_loss: 0.7528 - val_accuracy: 0.7188\n",
            "Epoch 134/150\n",
            "315/315 [==============================] - 7s 22ms/step - loss: 0.7454 - accuracy: 0.7293 - val_loss: 0.7731 - val_accuracy: 0.7135\n",
            "Epoch 135/150\n",
            "315/315 [==============================] - 7s 22ms/step - loss: 0.7287 - accuracy: 0.7349 - val_loss: 0.7428 - val_accuracy: 0.7316\n",
            "Epoch 136/150\n",
            "315/315 [==============================] - 7s 22ms/step - loss: 0.7253 - accuracy: 0.7320 - val_loss: 0.7548 - val_accuracy: 0.7216\n",
            "Epoch 137/150\n",
            "315/315 [==============================] - 7s 22ms/step - loss: 0.7317 - accuracy: 0.7363 - val_loss: 0.7762 - val_accuracy: 0.7027\n",
            "Epoch 138/150\n",
            "315/315 [==============================] - 7s 22ms/step - loss: 0.7461 - accuracy: 0.7293 - val_loss: 0.7124 - val_accuracy: 0.7440\n",
            "Epoch 139/150\n",
            "315/315 [==============================] - 7s 22ms/step - loss: 0.7143 - accuracy: 0.7404 - val_loss: 0.7414 - val_accuracy: 0.7220\n",
            "Epoch 140/150\n",
            "315/315 [==============================] - 7s 22ms/step - loss: 0.7389 - accuracy: 0.7299 - val_loss: 0.7362 - val_accuracy: 0.7228\n",
            "Epoch 141/150\n",
            "315/315 [==============================] - 7s 22ms/step - loss: 0.7374 - accuracy: 0.7352 - val_loss: 0.7703 - val_accuracy: 0.7103\n",
            "Epoch 142/150\n",
            "315/315 [==============================] - 7s 22ms/step - loss: 0.7270 - accuracy: 0.7394 - val_loss: 0.7531 - val_accuracy: 0.7151\n",
            "Epoch 143/150\n",
            "315/315 [==============================] - 7s 21ms/step - loss: 0.7356 - accuracy: 0.7360 - val_loss: 0.7366 - val_accuracy: 0.7384\n",
            "Epoch 144/150\n",
            "315/315 [==============================] - 7s 22ms/step - loss: 0.7257 - accuracy: 0.7417 - val_loss: 0.7537 - val_accuracy: 0.7232\n",
            "Epoch 145/150\n",
            "315/315 [==============================] - 7s 22ms/step - loss: 0.7235 - accuracy: 0.7414 - val_loss: 0.7542 - val_accuracy: 0.7216\n",
            "Epoch 146/150\n",
            "315/315 [==============================] - 7s 22ms/step - loss: 0.7224 - accuracy: 0.7403 - val_loss: 0.7483 - val_accuracy: 0.7159\n",
            "Epoch 147/150\n",
            "315/315 [==============================] - 7s 22ms/step - loss: 0.7234 - accuracy: 0.7375 - val_loss: 0.7330 - val_accuracy: 0.7300\n",
            "Epoch 148/150\n",
            "315/315 [==============================] - 7s 22ms/step - loss: 0.7217 - accuracy: 0.7334 - val_loss: 0.7255 - val_accuracy: 0.7344\n",
            "Epoch 149/150\n",
            "315/315 [==============================] - 7s 22ms/step - loss: 0.7179 - accuracy: 0.7374 - val_loss: 0.7095 - val_accuracy: 0.7396\n",
            "Epoch 150/150\n",
            "315/315 [==============================] - 7s 22ms/step - loss: 0.7149 - accuracy: 0.7385 - val_loss: 0.7599 - val_accuracy: 0.7143\n"
          ],
          "name": "stdout"
        }
      ]
    },
    {
      "cell_type": "code",
      "metadata": {
        "id": "WcZ4DauPNlMA",
        "colab": {
          "base_uri": "https://localhost:8080/",
          "height": 592
        },
        "outputId": "62869122-b066-4317-97ea-35d2df79d5d8"
      },
      "source": [
        "print(history.history.keys())\n",
        "#history for accuracy\n",
        "plt.plot(history.history['accuracy'])\n",
        "plt.plot(history.history['val_accuracy'])\n",
        "plt.title('model accuracy')\n",
        "plt.ylabel('accuracy')\n",
        "plt.xlabel('epoch')\n",
        "plt.legend(['train', 'test'], loc='lower right')\n",
        "plt.savefig('acc_1.png', dpi=300, bbox_inches='tight')\n",
        "plt.show()\n",
        "\n",
        "#history for loss\n",
        "plt.plot(history.history['loss'])\n",
        "plt.plot(history.history['val_loss'])\n",
        "plt.title('model loss')\n",
        "plt.ylabel('loss')\n",
        "plt.xlabel('epoch')\n",
        "plt.legend(['train', 'test'], loc='upper right')\n",
        "plt.savefig('loss_1.png', dpi=300, bbox_inches='tight')\n",
        "plt.show()\n"
      ],
      "execution_count": null,
      "outputs": [
        {
          "output_type": "stream",
          "text": [
            "dict_keys(['loss', 'accuracy', 'val_loss', 'val_accuracy'])\n"
          ],
          "name": "stdout"
        },
        {
          "output_type": "display_data",
          "data": {
            "image/png": "[encoded data removed]",
            "text/plain": [
              "<Figure size 432x288 with 1 Axes>"
            ]
          },
          "metadata": {
            "tags": [],
            "needs_background": "light"
          }
        },
        {
          "output_type": "display_data",
          "data": {
            "image/png": "[encoded data removed]",
            "text/plain": [
              "<Figure size 432x288 with 1 Axes>"
            ]
          },
          "metadata": {
            "tags": [],
            "needs_background": "light"
          }
        }
      ]
    },
    {
      "cell_type": "markdown",
      "metadata": {
        "id": "f2gTvZw60J9I"
      },
      "source": [
        "# Visualize training,validation history"
      ]
    },
    {
      "cell_type": "markdown",
      "metadata": {
        "id": "JL8675eR5HhV"
      },
      "source": [
        "#Save model weights [ h5 ]"
      ]
    },
    {
      "cell_type": "code",
      "metadata": {
        "id": "8ye4794q94bq",
        "colab": {
          "base_uri": "https://localhost:8080/"
        },
        "outputId": "a7c24d20-c057-4a28-d9f8-b4dddd88e473"
      },
      "source": [
        "model.save_weights(\"model_1.h5\")\n",
        "print(\"save model to disk\")"
      ],
      "execution_count": null,
      "outputs": [
        {
          "output_type": "stream",
          "text": [
            "save model to disk\n"
          ],
          "name": "stdout"
        }
      ]
    },
    {
      "cell_type": "markdown",
      "metadata": {
        "id": "6gcV610516Di"
      },
      "source": [
        "#Save model architecture [ JSON ]"
      ]
    },
    {
      "cell_type": "code",
      "metadata": {
        "id": "RI1qsp1h17sH"
      },
      "source": [
        "model_json = model.to_json()\n",
        "with open(\"model_1.json\",\"w\") as json_file:\n",
        "     json_file.write(model_json)"
      ],
      "execution_count": null,
      "outputs": []
    },
    {
      "cell_type": "code",
      "metadata": {
        "id": "WelMHGoBKGpD"
      },
      "source": [
        ""
      ],
      "execution_count": null,
      "outputs": []
    }
  ]
}