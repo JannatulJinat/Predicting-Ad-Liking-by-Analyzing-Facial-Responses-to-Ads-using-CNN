{
  "nbformat": 4,
  "nbformat_minor": 0,
  "metadata": {
    "colab": {
      "name": "Custom model 2 without dropout.ipynb",
      "provenance": [],
      "collapsed_sections": [],
      "toc_visible": true
    },
    "kernelspec": {
      "name": "python3",
      "display_name": "Python 3"
    },
    "accelerator": "GPU"
  },
  "cells": [
    {
      "cell_type": "markdown",
      "metadata": {
        "id": "D51Z7hxuqxsP"
      },
      "source": [
        "config\n",
        "Runtime ->Change runtime type ->select GPU"
      ]
    },
    {
      "cell_type": "markdown",
      "metadata": {
        "id": "O6LVHiqMqYsW"
      },
      "source": [
        "#Mount Drive"
      ]
    },
    {
      "cell_type": "code",
      "metadata": {
        "id": "5G7peFnSqW7b",
        "colab": {
          "base_uri": "https://localhost:8080/"
        },
        "outputId": "bb010cae-2a73-4934-fdec-e80ccaff1c38"
      },
      "source": [
        "from google.colab import drive\n",
        "drive.mount('/content/drive')"
      ],
      "execution_count": null,
      "outputs": [
        {
          "output_type": "stream",
          "text": [
            "Mounted at /content/drive\n"
          ],
          "name": "stdout"
        }
      ]
    },
    {
      "cell_type": "markdown",
      "metadata": {
        "id": "8Itb9f4qsLA_"
      },
      "source": [
        "Unzip data"
      ]
    },
    {
      "cell_type": "code",
      "metadata": {
        "id": "D71l21TJsTvc",
        "colab": {
          "base_uri": "https://localhost:8080/"
        },
        "outputId": "f1788543-e591-47e7-9248-e48f94270a20"
      },
      "source": [
        "from zipfile import ZipFile\n",
        "file_path = \"/content/drive/My Drive/Colab Notebooks/Thesis/image_data.zip\"\n",
        "with ZipFile(file_path,'r') as zip:\n",
        "    zip.extractall()\n",
        "    print(\"Done\") "
      ],
      "execution_count": null,
      "outputs": [
        {
          "output_type": "stream",
          "text": [
            "Done\n"
          ],
          "name": "stdout"
        }
      ]
    },
    {
      "cell_type": "markdown",
      "metadata": {
        "id": "ThkuevyFtEos"
      },
      "source": [
        "#Count data "
      ]
    },
    {
      "cell_type": "code",
      "metadata": {
        "id": "rCVe2ItEtM-a",
        "colab": {
          "base_uri": "https://localhost:8080/"
        },
        "outputId": "96811004-8424-4d6b-852c-d65152188f43"
      },
      "source": [
        "import os\n",
        "total_training_samples = 0\n",
        "for expression in os.listdir(\"/content/image_data/train\"):    \n",
        "    num = len(os.listdir(\"/content/image_data/train/\"+expression))\n",
        "    total_training_samples += num\n",
        "    print(expression +\" \"+str(num)+\" \"+\"images \")\n",
        "\n",
        "print(\"Total training samples : \",total_training_samples)"
      ],
      "execution_count": null,
      "outputs": [
        {
          "output_type": "stream",
          "text": [
            "fear 1440 images \n",
            "sadness 1440 images \n",
            "neutral 1440 images \n",
            "disgust 1440 images \n",
            "anger 1440 images \n",
            "surprise 1440 images \n",
            "happiness 1440 images \n",
            "Total training samples :  10080\n"
          ],
          "name": "stdout"
        }
      ]
    },
    {
      "cell_type": "code",
      "metadata": {
        "id": "pq8p8nGRBkM9",
        "colab": {
          "base_uri": "https://localhost:8080/"
        },
        "outputId": "d6eebab2-5554-4463-8fe0-a53a6b859143"
      },
      "source": [
        "total_validation_samples = 0\n",
        "for expression in os.listdir(\"/content/image_data/validation\"):\n",
        "    num = len(os.listdir(\"/content/image_data/validation/\"+expression))\n",
        "    total_validation_samples += num\n",
        "    print(expression +\" \"+str(num)+\" \"+\"images \")\n",
        "\n",
        "print(\"Total validation samples : \",total_validation_samples)"
      ],
      "execution_count": null,
      "outputs": [
        {
          "output_type": "stream",
          "text": [
            "fear 360 images \n",
            "sadness 360 images \n",
            "neutral 360 images \n",
            "disgust 360 images \n",
            "anger 360 images \n",
            "surprise 360 images \n",
            "happiness 360 images \n",
            "Total validation samples :  2520\n"
          ],
          "name": "stdout"
        }
      ]
    },
    {
      "cell_type": "markdown",
      "metadata": {
        "id": "5-eBA5rfwuK6"
      },
      "source": [
        "#data augmentation "
      ]
    },
    {
      "cell_type": "code",
      "metadata": {
        "id": "4wtA30IDwt6P",
        "colab": {
          "base_uri": "https://localhost:8080/"
        },
        "outputId": "33df33aa-ba97-4ffb-8984-4b6a915c8f31"
      },
      "source": [
        "from tensorflow.keras.preprocessing.image import ImageDataGenerator\n",
        "image_size = 48\n",
        "batch_size = 64\n",
        "\n",
        "datagen_train = ImageDataGenerator(rescale=1./255, \n",
        "                                   zoom_range=0.1, \n",
        "                                   rotation_range=10, \n",
        "                                   shear_range = 0.1, \n",
        "                                   horizontal_flip=True, \n",
        "                                   fill_mode=\"nearest\")\n",
        "\n",
        "train_generator = datagen_train.flow_from_directory(\"/content/image_data/train/\",\n",
        "                                                    target_size=(image_size,image_size),\n",
        "                                                    color_mode=\"grayscale\",\n",
        "                                                    batch_size=batch_size,\n",
        "                                                    class_mode='categorical',\n",
        "                                                    shuffle=True)\n",
        "\n",
        "datagen_validation = ImageDataGenerator(rescale=1./255)\n",
        "\n",
        "validation_generator = datagen_validation.flow_from_directory(\"/content/image_data/validation/\",\n",
        "                                                    target_size=(image_size,image_size),\n",
        "                                                    color_mode=\"grayscale\",\n",
        "                                                    batch_size=batch_size,\n",
        "                                                    class_mode='categorical',\n",
        "                                                    shuffle=True)"
      ],
      "execution_count": null,
      "outputs": [
        {
          "output_type": "stream",
          "text": [
            "Found 10080 images belonging to 7 classes.\n",
            "Found 2520 images belonging to 7 classes.\n"
          ],
          "name": "stdout"
        }
      ]
    },
    {
      "cell_type": "code",
      "metadata": {
        "id": "lyAl9YAkrNLl",
        "colab": {
          "base_uri": "https://localhost:8080/"
        },
        "outputId": "b2f5ff81-944f-4d77-d362-286b42da1305"
      },
      "source": [
        "import numpy as np\n",
        "import pandas as pd\n",
        "import matplotlib.pyplot as plt\n",
        "import tensorflow as tf\n",
        "\n",
        "from tensorflow.keras.models import Sequential\n",
        "from tensorflow.keras.layers import Dense, Dropout,Flatten, Conv2D\n",
        "from tensorflow.keras.layers import BatchNormalization, MaxPooling2D\n",
        "from tensorflow.keras.callbacks import ModelCheckpoint, ReduceLROnPlateau\n",
        "from tensorflow.keras.optimizers import Adam\n",
        "from tensorflow.keras.callbacks import EarlyStopping\n",
        "\n",
        "print(\"Tensorflow version:\", tf.__version__)\n"
      ],
      "execution_count": null,
      "outputs": [
        {
          "output_type": "stream",
          "text": [
            "Tensorflow version: 2.3.0\n"
          ],
          "name": "stdout"
        }
      ]
    },
    {
      "cell_type": "markdown",
      "metadata": {
        "id": "dQOKGM0RyDje"
      },
      "source": [
        "#Hyperparameter Tuning"
      ]
    },
    {
      "cell_type": "code",
      "metadata": {
        "id": "nQ8dWSJTyGRZ"
      },
      "source": [
        "epochs = 150\n",
        "lr = 0.001\n",
        "loss = \"categorical_crossentropy\"\n",
        "optimizer = Adam(learning_rate = lr )"
      ],
      "execution_count": null,
      "outputs": []
    },
    {
      "cell_type": "markdown",
      "metadata": {
        "id": "aG0P1e3AN1ZM"
      },
      "source": [
        "#without using dropout"
      ]
    },
    {
      "cell_type": "code",
      "metadata": {
        "id": "4yQ3wYQ0vU7y",
        "colab": {
          "base_uri": "https://localhost:8080/"
        },
        "outputId": "49922b00-bcd0-44a5-df2c-cc9e22635adf"
      },
      "source": [
        "model = Sequential()\n",
        "\n",
        "model.add(Conv2D(32 ,(3,3),activation='relu',input_shape = (48,48,1)))\n",
        "model.add(MaxPooling2D(pool_size=(2,2)))\n",
        "\n",
        "model.add(Conv2D(64,(3,3),activation='relu'))\n",
        "model.add(MaxPooling2D(pool_size=(2,2)))\n",
        "\n",
        "model.add(Conv2D(128,(3,3),activation='relu'))\n",
        "model.add(MaxPooling2D(pool_size=(2,2)))\n",
        "\n",
        "model.add(Flatten())\n",
        "\n",
        "#model.add(Dropout(0.5))\n",
        "\n",
        "model.add(Dense(256,activation='relu'))\n",
        "#model.add(Dropout(0.5))\n",
        "\n",
        "model.add(Dense(128,activation='relu'))\n",
        "#model.add(Dropout(0.5))\n",
        "\n",
        "model.add(Dense(7,activation='softmax'))\n",
        "\n",
        "model.compile(optimizer =optimizer,loss = loss,metrics = ['accuracy'] )\n",
        "model.summary()"
      ],
      "execution_count": null,
      "outputs": [
        {
          "output_type": "stream",
          "text": [
            "Model: \"sequential\"\n",
            "_________________________________________________________________\n",
            "Layer (type)                 Output Shape              Param #   \n",
            "=================================================================\n",
            "conv2d (Conv2D)              (None, 46, 46, 32)        320       \n",
            "_________________________________________________________________\n",
            "max_pooling2d (MaxPooling2D) (None, 23, 23, 32)        0         \n",
            "_________________________________________________________________\n",
            "conv2d_1 (Conv2D)            (None, 21, 21, 64)        18496     \n",
            "_________________________________________________________________\n",
            "max_pooling2d_1 (MaxPooling2 (None, 10, 10, 64)        0         \n",
            "_________________________________________________________________\n",
            "conv2d_2 (Conv2D)            (None, 8, 8, 128)         73856     \n",
            "_________________________________________________________________\n",
            "max_pooling2d_2 (MaxPooling2 (None, 4, 4, 128)         0         \n",
            "_________________________________________________________________\n",
            "flatten (Flatten)            (None, 2048)              0         \n",
            "_________________________________________________________________\n",
            "dense (Dense)                (None, 256)               524544    \n",
            "_________________________________________________________________\n",
            "dense_1 (Dense)              (None, 128)               32896     \n",
            "_________________________________________________________________\n",
            "dense_2 (Dense)              (None, 7)                 903       \n",
            "=================================================================\n",
            "Total params: 651,015\n",
            "Trainable params: 651,015\n",
            "Non-trainable params: 0\n",
            "_________________________________________________________________\n"
          ],
          "name": "stdout"
        }
      ]
    },
    {
      "cell_type": "code",
      "metadata": {
        "id": "rIDqQPvJiqIL",
        "colab": {
          "base_uri": "https://localhost:8080/",
          "height": 217
        },
        "outputId": "7ecebf8c-f75b-4c02-83bf-1d9cef8f100e"
      },
      "source": [
        "from tensorflow.keras.utils import plot_model\n",
        "from IPython.display import Image\n",
        "\n",
        "plot_model(model, to_file='model.png', show_shapes=True, show_layer_names=True)\n",
        "Image('model_3.png',width=400, height=200)\n"
      ],
      "execution_count": null,
      "outputs": [
        {
          "output_type": "execute_result",
          "data": {
            "image/png": "model_3.png",
            "text/plain": [
              "<IPython.core.display.Image object>"
            ]
          },
          "metadata": {
            "tags": [],
            "image/png": {
              "width": 400,
              "height": 200
            }
          },
          "execution_count": 9
        }
      ]
    },
    {
      "cell_type": "code",
      "metadata": {
        "id": "CKGFabBGyjsE",
        "colab": {
          "base_uri": "https://localhost:8080/"
        },
        "outputId": "5c127092-2612-414a-8f75-6da237739d9e"
      },
      "source": [
        "print(train_generator.n)\n",
        "print(validation_generator.n)\n",
        "print(train_generator.batch_size)\n",
        "steps_per_epoch = train_generator.n //train_generator.batch_size\n",
        "validation_steps = validation_generator.n // validation_generator.batch_size\n",
        "\n",
        "#early_stopping = EarlyStopping(patience=5)\n",
        "\n",
        "history = model.fit( train_generator,\n",
        "                    steps_per_epoch = total_training_samples//batch_size,\n",
        "                    validation_data = validation_generator,\n",
        "                    validation_steps = total_validation_samples//batch_size,\n",
        "                    epochs = epochs)\n",
        "#callbacks=[early_stopping] "
      ],
      "execution_count": null,
      "outputs": [
        {
          "output_type": "stream",
          "text": [
            "10080\n",
            "2520\n",
            "64\n",
            "Epoch 1/150\n",
            "157/157 [==============================] - 7s 46ms/step - loss: 1.7983 - accuracy: 0.2502 - val_loss: 1.4468 - val_accuracy: 0.3950\n",
            "Epoch 2/150\n",
            "157/157 [==============================] - 7s 45ms/step - loss: 1.5517 - accuracy: 0.3822 - val_loss: 1.3509 - val_accuracy: 0.4575\n",
            "Epoch 3/150\n",
            "157/157 [==============================] - 7s 44ms/step - loss: 1.3597 - accuracy: 0.4756 - val_loss: 1.1970 - val_accuracy: 0.5236\n",
            "Epoch 4/150\n",
            "157/157 [==============================] - 7s 44ms/step - loss: 1.2291 - accuracy: 0.5209 - val_loss: 1.0834 - val_accuracy: 0.5729\n",
            "Epoch 5/150\n",
            "157/157 [==============================] - 7s 44ms/step - loss: 1.1340 - accuracy: 0.5654 - val_loss: 1.1045 - val_accuracy: 0.5585\n",
            "Epoch 6/150\n",
            "157/157 [==============================] - 7s 45ms/step - loss: 1.0584 - accuracy: 0.5916 - val_loss: 1.0761 - val_accuracy: 0.5721\n",
            "Epoch 7/150\n",
            "157/157 [==============================] - 7s 44ms/step - loss: 0.9919 - accuracy: 0.6184 - val_loss: 0.9691 - val_accuracy: 0.6326\n",
            "Epoch 8/150\n",
            "157/157 [==============================] - 7s 44ms/step - loss: 0.9435 - accuracy: 0.6448 - val_loss: 0.9305 - val_accuracy: 0.6386\n",
            "Epoch 9/150\n",
            "157/157 [==============================] - 7s 43ms/step - loss: 0.8919 - accuracy: 0.6671 - val_loss: 0.9235 - val_accuracy: 0.6378\n",
            "Epoch 10/150\n",
            "157/157 [==============================] - 7s 44ms/step - loss: 0.8512 - accuracy: 0.6835 - val_loss: 0.9637 - val_accuracy: 0.6354\n",
            "Epoch 11/150\n",
            "157/157 [==============================] - 7s 44ms/step - loss: 0.8207 - accuracy: 0.6963 - val_loss: 0.9129 - val_accuracy: 0.6562\n",
            "Epoch 12/150\n",
            "157/157 [==============================] - 7s 44ms/step - loss: 0.7778 - accuracy: 0.7149 - val_loss: 0.9161 - val_accuracy: 0.6635\n",
            "Epoch 13/150\n",
            "157/157 [==============================] - 7s 43ms/step - loss: 0.7452 - accuracy: 0.7194 - val_loss: 0.8582 - val_accuracy: 0.6731\n",
            "Epoch 14/150\n",
            "157/157 [==============================] - 7s 44ms/step - loss: 0.7274 - accuracy: 0.7292 - val_loss: 0.8445 - val_accuracy: 0.6839\n",
            "Epoch 15/150\n",
            "157/157 [==============================] - 7s 44ms/step - loss: 0.6939 - accuracy: 0.7387 - val_loss: 0.9052 - val_accuracy: 0.6703\n",
            "Epoch 16/150\n",
            "157/157 [==============================] - 7s 44ms/step - loss: 0.6682 - accuracy: 0.7541 - val_loss: 0.9157 - val_accuracy: 0.6611\n",
            "Epoch 17/150\n",
            "157/157 [==============================] - 7s 43ms/step - loss: 0.6415 - accuracy: 0.7616 - val_loss: 0.8648 - val_accuracy: 0.6887\n",
            "Epoch 18/150\n",
            "157/157 [==============================] - 7s 43ms/step - loss: 0.6072 - accuracy: 0.7704 - val_loss: 0.8866 - val_accuracy: 0.6899\n",
            "Epoch 19/150\n",
            "157/157 [==============================] - 7s 43ms/step - loss: 0.5812 - accuracy: 0.7913 - val_loss: 0.9045 - val_accuracy: 0.6711\n",
            "Epoch 20/150\n",
            "157/157 [==============================] - 7s 43ms/step - loss: 0.5709 - accuracy: 0.7913 - val_loss: 0.9001 - val_accuracy: 0.6779\n",
            "Epoch 21/150\n",
            "157/157 [==============================] - 7s 43ms/step - loss: 0.5310 - accuracy: 0.8025 - val_loss: 0.9063 - val_accuracy: 0.6887\n",
            "Epoch 22/150\n",
            "157/157 [==============================] - 7s 43ms/step - loss: 0.5124 - accuracy: 0.8133 - val_loss: 0.9300 - val_accuracy: 0.6807\n",
            "Epoch 23/150\n",
            "157/157 [==============================] - 7s 42ms/step - loss: 0.4852 - accuracy: 0.8184 - val_loss: 0.9232 - val_accuracy: 0.6963\n",
            "Epoch 24/150\n",
            "157/157 [==============================] - 7s 43ms/step - loss: 0.4790 - accuracy: 0.8271 - val_loss: 0.9933 - val_accuracy: 0.6655\n",
            "Epoch 25/150\n",
            "157/157 [==============================] - 7s 43ms/step - loss: 0.4526 - accuracy: 0.8332 - val_loss: 0.9624 - val_accuracy: 0.6971\n",
            "Epoch 26/150\n",
            "157/157 [==============================] - 7s 42ms/step - loss: 0.4330 - accuracy: 0.8457 - val_loss: 1.0498 - val_accuracy: 0.6787\n",
            "Epoch 27/150\n",
            "157/157 [==============================] - 7s 42ms/step - loss: 0.4264 - accuracy: 0.8483 - val_loss: 1.0300 - val_accuracy: 0.6803\n",
            "Epoch 28/150\n",
            "157/157 [==============================] - 7s 42ms/step - loss: 0.4044 - accuracy: 0.8555 - val_loss: 0.9316 - val_accuracy: 0.7059\n",
            "Epoch 29/150\n",
            "157/157 [==============================] - 7s 42ms/step - loss: 0.3781 - accuracy: 0.8594 - val_loss: 1.0155 - val_accuracy: 0.6955\n",
            "Epoch 30/150\n",
            "157/157 [==============================] - 7s 42ms/step - loss: 0.3670 - accuracy: 0.8679 - val_loss: 1.0683 - val_accuracy: 0.6927\n",
            "Epoch 31/150\n",
            "157/157 [==============================] - 7s 42ms/step - loss: 0.3604 - accuracy: 0.8695 - val_loss: 1.1122 - val_accuracy: 0.6807\n",
            "Epoch 32/150\n",
            "157/157 [==============================] - 7s 43ms/step - loss: 0.3361 - accuracy: 0.8772 - val_loss: 1.0645 - val_accuracy: 0.6927\n",
            "Epoch 33/150\n",
            "157/157 [==============================] - 7s 42ms/step - loss: 0.3386 - accuracy: 0.8766 - val_loss: 1.1929 - val_accuracy: 0.6739\n",
            "Epoch 34/150\n",
            "157/157 [==============================] - 7s 42ms/step - loss: 0.3182 - accuracy: 0.8812 - val_loss: 1.2047 - val_accuracy: 0.6823\n",
            "Epoch 35/150\n",
            "157/157 [==============================] - 7s 42ms/step - loss: 0.3188 - accuracy: 0.8829 - val_loss: 1.1516 - val_accuracy: 0.6863\n",
            "Epoch 36/150\n",
            "157/157 [==============================] - 6s 41ms/step - loss: 0.2869 - accuracy: 0.8968 - val_loss: 1.1106 - val_accuracy: 0.7143\n",
            "Epoch 37/150\n",
            "157/157 [==============================] - 6s 41ms/step - loss: 0.2794 - accuracy: 0.8988 - val_loss: 1.1176 - val_accuracy: 0.7019\n",
            "Epoch 38/150\n",
            "157/157 [==============================] - 7s 42ms/step - loss: 0.2656 - accuracy: 0.9016 - val_loss: 1.2114 - val_accuracy: 0.6879\n",
            "Epoch 39/150\n",
            "157/157 [==============================] - 7s 42ms/step - loss: 0.2758 - accuracy: 0.9000 - val_loss: 1.1913 - val_accuracy: 0.7031\n",
            "Epoch 40/150\n",
            "157/157 [==============================] - 7s 42ms/step - loss: 0.2742 - accuracy: 0.9014 - val_loss: 1.1970 - val_accuracy: 0.7027\n",
            "Epoch 41/150\n",
            "157/157 [==============================] - 6s 41ms/step - loss: 0.2454 - accuracy: 0.9095 - val_loss: 1.2210 - val_accuracy: 0.6911\n",
            "Epoch 42/150\n",
            "157/157 [==============================] - 6s 41ms/step - loss: 0.2467 - accuracy: 0.9138 - val_loss: 1.2522 - val_accuracy: 0.7047\n",
            "Epoch 43/150\n",
            "157/157 [==============================] - 7s 42ms/step - loss: 0.2339 - accuracy: 0.9163 - val_loss: 1.2628 - val_accuracy: 0.6983\n",
            "Epoch 44/150\n",
            "157/157 [==============================] - 7s 42ms/step - loss: 0.2372 - accuracy: 0.9156 - val_loss: 1.3439 - val_accuracy: 0.6943\n",
            "Epoch 45/150\n",
            "157/157 [==============================] - 6s 41ms/step - loss: 0.2207 - accuracy: 0.9203 - val_loss: 1.3298 - val_accuracy: 0.6871\n",
            "Epoch 46/150\n",
            "157/157 [==============================] - 6s 41ms/step - loss: 0.2223 - accuracy: 0.9202 - val_loss: 1.3026 - val_accuracy: 0.7115\n",
            "Epoch 47/150\n",
            "157/157 [==============================] - 6s 41ms/step - loss: 0.2197 - accuracy: 0.9213 - val_loss: 1.3257 - val_accuracy: 0.7031\n",
            "Epoch 48/150\n",
            "157/157 [==============================] - 7s 42ms/step - loss: 0.2044 - accuracy: 0.9288 - val_loss: 1.4574 - val_accuracy: 0.6947\n",
            "Epoch 49/150\n",
            "157/157 [==============================] - 7s 42ms/step - loss: 0.1997 - accuracy: 0.9253 - val_loss: 1.4739 - val_accuracy: 0.6899\n",
            "Epoch 50/150\n",
            "157/157 [==============================] - 6s 41ms/step - loss: 0.2157 - accuracy: 0.9235 - val_loss: 1.3261 - val_accuracy: 0.7051\n",
            "Epoch 51/150\n",
            "157/157 [==============================] - 7s 42ms/step - loss: 0.1964 - accuracy: 0.9311 - val_loss: 1.3583 - val_accuracy: 0.7095\n",
            "Epoch 52/150\n",
            "157/157 [==============================] - 7s 42ms/step - loss: 0.1962 - accuracy: 0.9296 - val_loss: 1.5269 - val_accuracy: 0.6971\n",
            "Epoch 53/150\n",
            "157/157 [==============================] - 6s 41ms/step - loss: 0.1816 - accuracy: 0.9373 - val_loss: 1.5255 - val_accuracy: 0.6895\n",
            "Epoch 54/150\n",
            "157/157 [==============================] - 6s 41ms/step - loss: 0.1878 - accuracy: 0.9339 - val_loss: 1.4647 - val_accuracy: 0.6999\n",
            "Epoch 55/150\n",
            "157/157 [==============================] - 6s 41ms/step - loss: 0.1715 - accuracy: 0.9401 - val_loss: 1.4956 - val_accuracy: 0.7015\n",
            "Epoch 56/150\n",
            "157/157 [==============================] - 6s 41ms/step - loss: 0.1743 - accuracy: 0.9379 - val_loss: 1.5953 - val_accuracy: 0.6903\n",
            "Epoch 57/150\n",
            "157/157 [==============================] - 7s 42ms/step - loss: 0.1747 - accuracy: 0.9367 - val_loss: 1.5042 - val_accuracy: 0.6951\n",
            "Epoch 58/150\n",
            "157/157 [==============================] - 6s 41ms/step - loss: 0.1659 - accuracy: 0.9419 - val_loss: 1.4622 - val_accuracy: 0.7003\n",
            "Epoch 59/150\n",
            "157/157 [==============================] - 7s 41ms/step - loss: 0.1693 - accuracy: 0.9402 - val_loss: 1.5023 - val_accuracy: 0.6863\n",
            "Epoch 60/150\n",
            "157/157 [==============================] - 6s 41ms/step - loss: 0.1629 - accuracy: 0.9429 - val_loss: 1.5949 - val_accuracy: 0.6947\n",
            "Epoch 61/150\n",
            "157/157 [==============================] - 7s 41ms/step - loss: 0.1665 - accuracy: 0.9412 - val_loss: 1.5785 - val_accuracy: 0.6959\n",
            "Epoch 62/150\n",
            "157/157 [==============================] - 7s 42ms/step - loss: 0.1586 - accuracy: 0.9432 - val_loss: 1.5561 - val_accuracy: 0.6955\n",
            "Epoch 63/150\n",
            "157/157 [==============================] - 7s 42ms/step - loss: 0.1587 - accuracy: 0.9433 - val_loss: 1.5783 - val_accuracy: 0.6947\n",
            "Epoch 64/150\n",
            "157/157 [==============================] - 7s 42ms/step - loss: 0.1626 - accuracy: 0.9406 - val_loss: 1.5965 - val_accuracy: 0.6967\n",
            "Epoch 65/150\n",
            "157/157 [==============================] - 7s 42ms/step - loss: 0.1630 - accuracy: 0.9421 - val_loss: 1.4395 - val_accuracy: 0.7003\n",
            "Epoch 66/150\n",
            "157/157 [==============================] - 6s 41ms/step - loss: 0.1564 - accuracy: 0.9453 - val_loss: 1.4887 - val_accuracy: 0.6999\n",
            "Epoch 67/150\n",
            "157/157 [==============================] - 6s 41ms/step - loss: 0.1390 - accuracy: 0.9530 - val_loss: 1.6172 - val_accuracy: 0.6859\n",
            "Epoch 68/150\n",
            "157/157 [==============================] - 6s 41ms/step - loss: 0.1383 - accuracy: 0.9516 - val_loss: 1.6101 - val_accuracy: 0.6959\n",
            "Epoch 69/150\n",
            "157/157 [==============================] - 6s 41ms/step - loss: 0.1429 - accuracy: 0.9490 - val_loss: 1.6182 - val_accuracy: 0.6935\n",
            "Epoch 70/150\n",
            "157/157 [==============================] - 6s 41ms/step - loss: 0.1477 - accuracy: 0.9478 - val_loss: 1.6490 - val_accuracy: 0.7015\n",
            "Epoch 71/150\n",
            "157/157 [==============================] - 6s 41ms/step - loss: 0.1398 - accuracy: 0.9511 - val_loss: 1.7485 - val_accuracy: 0.6983\n",
            "Epoch 72/150\n",
            "157/157 [==============================] - 6s 41ms/step - loss: 0.1327 - accuracy: 0.9536 - val_loss: 1.7930 - val_accuracy: 0.6747\n",
            "Epoch 73/150\n",
            "157/157 [==============================] - 6s 41ms/step - loss: 0.1402 - accuracy: 0.9492 - val_loss: 1.7801 - val_accuracy: 0.6719\n",
            "Epoch 74/150\n",
            "157/157 [==============================] - 6s 41ms/step - loss: 0.1374 - accuracy: 0.9518 - val_loss: 1.5708 - val_accuracy: 0.7087\n",
            "Epoch 75/150\n",
            "157/157 [==============================] - 6s 41ms/step - loss: 0.1491 - accuracy: 0.9486 - val_loss: 1.6141 - val_accuracy: 0.6911\n",
            "Epoch 76/150\n",
            "157/157 [==============================] - 7s 42ms/step - loss: 0.1359 - accuracy: 0.9531 - val_loss: 1.6161 - val_accuracy: 0.6971\n",
            "Epoch 77/150\n",
            "157/157 [==============================] - 7s 41ms/step - loss: 0.1299 - accuracy: 0.9544 - val_loss: 1.7143 - val_accuracy: 0.7007\n",
            "Epoch 78/150\n",
            "157/157 [==============================] - 6s 41ms/step - loss: 0.1438 - accuracy: 0.9473 - val_loss: 1.6884 - val_accuracy: 0.6939\n",
            "Epoch 79/150\n",
            "157/157 [==============================] - 7s 42ms/step - loss: 0.1284 - accuracy: 0.9544 - val_loss: 1.7162 - val_accuracy: 0.6999\n",
            "Epoch 80/150\n",
            "157/157 [==============================] - 7s 42ms/step - loss: 0.1270 - accuracy: 0.9542 - val_loss: 1.6289 - val_accuracy: 0.7059\n",
            "Epoch 81/150\n",
            "157/157 [==============================] - 7s 42ms/step - loss: 0.1259 - accuracy: 0.9560 - val_loss: 1.6570 - val_accuracy: 0.7007\n",
            "Epoch 82/150\n",
            "157/157 [==============================] - 6s 41ms/step - loss: 0.1109 - accuracy: 0.9629 - val_loss: 1.7030 - val_accuracy: 0.7175\n",
            "Epoch 83/150\n",
            "157/157 [==============================] - 6s 41ms/step - loss: 0.1097 - accuracy: 0.9633 - val_loss: 1.7780 - val_accuracy: 0.7011\n",
            "Epoch 84/150\n",
            "157/157 [==============================] - 6s 41ms/step - loss: 0.1207 - accuracy: 0.9569 - val_loss: 1.7016 - val_accuracy: 0.6847\n",
            "Epoch 85/150\n",
            "157/157 [==============================] - 6s 41ms/step - loss: 0.1303 - accuracy: 0.9549 - val_loss: 1.8065 - val_accuracy: 0.7039\n",
            "Epoch 86/150\n",
            "157/157 [==============================] - 6s 41ms/step - loss: 0.1147 - accuracy: 0.9593 - val_loss: 1.7197 - val_accuracy: 0.7123\n",
            "Epoch 87/150\n",
            "157/157 [==============================] - 6s 41ms/step - loss: 0.1016 - accuracy: 0.9672 - val_loss: 1.7438 - val_accuracy: 0.7099\n",
            "Epoch 88/150\n",
            "157/157 [==============================] - 6s 41ms/step - loss: 0.1037 - accuracy: 0.9637 - val_loss: 1.7843 - val_accuracy: 0.7131\n",
            "Epoch 89/150\n",
            "157/157 [==============================] - 6s 41ms/step - loss: 0.1219 - accuracy: 0.9564 - val_loss: 1.8299 - val_accuracy: 0.6987\n",
            "Epoch 90/150\n",
            "157/157 [==============================] - 6s 40ms/step - loss: 0.1167 - accuracy: 0.9604 - val_loss: 1.8170 - val_accuracy: 0.7035\n",
            "Epoch 91/150\n",
            "157/157 [==============================] - 6s 41ms/step - loss: 0.1099 - accuracy: 0.9602 - val_loss: 1.7835 - val_accuracy: 0.7071\n",
            "Epoch 92/150\n",
            "157/157 [==============================] - 6s 41ms/step - loss: 0.1208 - accuracy: 0.9556 - val_loss: 1.7533 - val_accuracy: 0.7119\n",
            "Epoch 93/150\n",
            "157/157 [==============================] - 6s 41ms/step - loss: 0.1140 - accuracy: 0.9602 - val_loss: 1.7380 - val_accuracy: 0.7007\n",
            "Epoch 94/150\n",
            "157/157 [==============================] - 6s 41ms/step - loss: 0.0998 - accuracy: 0.9653 - val_loss: 1.8903 - val_accuracy: 0.6879\n",
            "Epoch 95/150\n",
            "157/157 [==============================] - 6s 40ms/step - loss: 0.0974 - accuracy: 0.9655 - val_loss: 1.8203 - val_accuracy: 0.6995\n",
            "Epoch 96/150\n",
            "157/157 [==============================] - 6s 41ms/step - loss: 0.1188 - accuracy: 0.9575 - val_loss: 1.7952 - val_accuracy: 0.7027\n",
            "Epoch 97/150\n",
            "157/157 [==============================] - 6s 41ms/step - loss: 0.1053 - accuracy: 0.9635 - val_loss: 1.8751 - val_accuracy: 0.6955\n",
            "Epoch 98/150\n",
            "157/157 [==============================] - 7s 41ms/step - loss: 0.1059 - accuracy: 0.9631 - val_loss: 1.9269 - val_accuracy: 0.6903\n",
            "Epoch 99/150\n",
            "157/157 [==============================] - 6s 40ms/step - loss: 0.1229 - accuracy: 0.9574 - val_loss: 1.8303 - val_accuracy: 0.7107\n",
            "Epoch 100/150\n",
            "157/157 [==============================] - 6s 41ms/step - loss: 0.1028 - accuracy: 0.9642 - val_loss: 1.9225 - val_accuracy: 0.6943\n",
            "Epoch 101/150\n",
            "157/157 [==============================] - 6s 41ms/step - loss: 0.0927 - accuracy: 0.9674 - val_loss: 1.9683 - val_accuracy: 0.6987\n",
            "Epoch 102/150\n",
            "157/157 [==============================] - 7s 41ms/step - loss: 0.0994 - accuracy: 0.9656 - val_loss: 1.8588 - val_accuracy: 0.7103\n",
            "Epoch 103/150\n",
            "157/157 [==============================] - 6s 41ms/step - loss: 0.1077 - accuracy: 0.9624 - val_loss: 1.7950 - val_accuracy: 0.7031\n",
            "Epoch 104/150\n",
            "157/157 [==============================] - 6s 40ms/step - loss: 0.0841 - accuracy: 0.9717 - val_loss: 1.9389 - val_accuracy: 0.7091\n",
            "Epoch 105/150\n",
            "157/157 [==============================] - 6s 40ms/step - loss: 0.0887 - accuracy: 0.9688 - val_loss: 1.8787 - val_accuracy: 0.7035\n",
            "Epoch 106/150\n",
            "157/157 [==============================] - 6s 40ms/step - loss: 0.0939 - accuracy: 0.9677 - val_loss: 1.9558 - val_accuracy: 0.6999\n",
            "Epoch 107/150\n",
            "157/157 [==============================] - 6s 41ms/step - loss: 0.0963 - accuracy: 0.9658 - val_loss: 2.0368 - val_accuracy: 0.6911\n",
            "Epoch 108/150\n",
            "157/157 [==============================] - 6s 41ms/step - loss: 0.1176 - accuracy: 0.9594 - val_loss: 1.9667 - val_accuracy: 0.6867\n",
            "Epoch 109/150\n",
            "157/157 [==============================] - 6s 40ms/step - loss: 0.1017 - accuracy: 0.9650 - val_loss: 1.9369 - val_accuracy: 0.6935\n",
            "Epoch 110/150\n",
            "157/157 [==============================] - 6s 41ms/step - loss: 0.0927 - accuracy: 0.9686 - val_loss: 2.0049 - val_accuracy: 0.6911\n",
            "Epoch 111/150\n",
            "157/157 [==============================] - 6s 41ms/step - loss: 0.1017 - accuracy: 0.9658 - val_loss: 1.9351 - val_accuracy: 0.6831\n",
            "Epoch 112/150\n",
            "157/157 [==============================] - 6s 41ms/step - loss: 0.0981 - accuracy: 0.9658 - val_loss: 1.9459 - val_accuracy: 0.6939\n",
            "Epoch 113/150\n",
            "157/157 [==============================] - 6s 41ms/step - loss: 0.0973 - accuracy: 0.9648 - val_loss: 1.8801 - val_accuracy: 0.6931\n",
            "Epoch 114/150\n",
            "157/157 [==============================] - 6s 41ms/step - loss: 0.0890 - accuracy: 0.9688 - val_loss: 1.9881 - val_accuracy: 0.7011\n",
            "Epoch 115/150\n",
            "157/157 [==============================] - 6s 40ms/step - loss: 0.0994 - accuracy: 0.9652 - val_loss: 1.8966 - val_accuracy: 0.7260\n",
            "Epoch 116/150\n",
            "157/157 [==============================] - 6s 41ms/step - loss: 0.0824 - accuracy: 0.9717 - val_loss: 1.8906 - val_accuracy: 0.7019\n",
            "Epoch 117/150\n",
            "157/157 [==============================] - 6s 41ms/step - loss: 0.1064 - accuracy: 0.9628 - val_loss: 1.8597 - val_accuracy: 0.7155\n",
            "Epoch 118/150\n",
            "157/157 [==============================] - 6s 41ms/step - loss: 0.1005 - accuracy: 0.9645 - val_loss: 1.8731 - val_accuracy: 0.7075\n",
            "Epoch 119/150\n",
            "157/157 [==============================] - 6s 40ms/step - loss: 0.0906 - accuracy: 0.9694 - val_loss: 1.8658 - val_accuracy: 0.6995\n",
            "Epoch 120/150\n",
            "157/157 [==============================] - 6s 41ms/step - loss: 0.0875 - accuracy: 0.9690 - val_loss: 1.9434 - val_accuracy: 0.7212\n",
            "Epoch 121/150\n",
            "157/157 [==============================] - 6s 41ms/step - loss: 0.0966 - accuracy: 0.9664 - val_loss: 1.9920 - val_accuracy: 0.7051\n",
            "Epoch 122/150\n",
            "157/157 [==============================] - 6s 41ms/step - loss: 0.0929 - accuracy: 0.9648 - val_loss: 1.9503 - val_accuracy: 0.6943\n",
            "Epoch 123/150\n",
            "157/157 [==============================] - 6s 41ms/step - loss: 0.0919 - accuracy: 0.9678 - val_loss: 1.9203 - val_accuracy: 0.6971\n",
            "Epoch 124/150\n",
            "157/157 [==============================] - 6s 41ms/step - loss: 0.0918 - accuracy: 0.9677 - val_loss: 2.0638 - val_accuracy: 0.6899\n",
            "Epoch 125/150\n",
            "157/157 [==============================] - 6s 41ms/step - loss: 0.0806 - accuracy: 0.9729 - val_loss: 2.0482 - val_accuracy: 0.6979\n",
            "Epoch 126/150\n",
            "157/157 [==============================] - 7s 41ms/step - loss: 0.0869 - accuracy: 0.9685 - val_loss: 2.0982 - val_accuracy: 0.6879\n",
            "Epoch 127/150\n",
            "157/157 [==============================] - 7s 42ms/step - loss: 0.0913 - accuracy: 0.9687 - val_loss: 1.8778 - val_accuracy: 0.6911\n",
            "Epoch 128/150\n",
            "157/157 [==============================] - 7s 42ms/step - loss: 0.0767 - accuracy: 0.9735 - val_loss: 2.0616 - val_accuracy: 0.7015\n",
            "Epoch 129/150\n",
            "157/157 [==============================] - 6s 41ms/step - loss: 0.0854 - accuracy: 0.9705 - val_loss: 1.8517 - val_accuracy: 0.6999\n",
            "Epoch 130/150\n",
            "157/157 [==============================] - 6s 40ms/step - loss: 0.0895 - accuracy: 0.9684 - val_loss: 1.9888 - val_accuracy: 0.7019\n",
            "Epoch 131/150\n",
            "157/157 [==============================] - 6s 41ms/step - loss: 0.0825 - accuracy: 0.9711 - val_loss: 2.0706 - val_accuracy: 0.6995\n",
            "Epoch 132/150\n",
            "157/157 [==============================] - 6s 41ms/step - loss: 0.0927 - accuracy: 0.9681 - val_loss: 2.0451 - val_accuracy: 0.6963\n",
            "Epoch 133/150\n",
            "157/157 [==============================] - 6s 40ms/step - loss: 0.0814 - accuracy: 0.9721 - val_loss: 2.0571 - val_accuracy: 0.6971\n",
            "Epoch 134/150\n",
            "157/157 [==============================] - 6s 40ms/step - loss: 0.0893 - accuracy: 0.9673 - val_loss: 2.1056 - val_accuracy: 0.6967\n",
            "Epoch 135/150\n",
            "157/157 [==============================] - 6s 41ms/step - loss: 0.0791 - accuracy: 0.9714 - val_loss: 2.1344 - val_accuracy: 0.7067\n",
            "Epoch 136/150\n",
            "157/157 [==============================] - 6s 41ms/step - loss: 0.0843 - accuracy: 0.9706 - val_loss: 2.0629 - val_accuracy: 0.6983\n",
            "Epoch 137/150\n",
            "157/157 [==============================] - 6s 41ms/step - loss: 0.0872 - accuracy: 0.9697 - val_loss: 2.1910 - val_accuracy: 0.6871\n",
            "Epoch 138/150\n",
            "157/157 [==============================] - 6s 41ms/step - loss: 0.0743 - accuracy: 0.9727 - val_loss: 2.2313 - val_accuracy: 0.6919\n",
            "Epoch 139/150\n",
            "157/157 [==============================] - 7s 41ms/step - loss: 0.0891 - accuracy: 0.9697 - val_loss: 2.0018 - val_accuracy: 0.7131\n",
            "Epoch 140/150\n",
            "157/157 [==============================] - 6s 41ms/step - loss: 0.0966 - accuracy: 0.9688 - val_loss: 2.0834 - val_accuracy: 0.6779\n",
            "Epoch 141/150\n",
            "157/157 [==============================] - 6s 41ms/step - loss: 0.0814 - accuracy: 0.9722 - val_loss: 1.9726 - val_accuracy: 0.6915\n",
            "Epoch 142/150\n",
            "157/157 [==============================] - 6s 40ms/step - loss: 0.0797 - accuracy: 0.9709 - val_loss: 2.0939 - val_accuracy: 0.6971\n",
            "Epoch 143/150\n",
            "157/157 [==============================] - 6s 41ms/step - loss: 0.0766 - accuracy: 0.9746 - val_loss: 2.1482 - val_accuracy: 0.7031\n",
            "Epoch 144/150\n",
            "157/157 [==============================] - 6s 41ms/step - loss: 0.0914 - accuracy: 0.9688 - val_loss: 2.0789 - val_accuracy: 0.6911\n",
            "Epoch 145/150\n",
            "157/157 [==============================] - 6s 41ms/step - loss: 0.0834 - accuracy: 0.9706 - val_loss: 2.0992 - val_accuracy: 0.7047\n",
            "Epoch 146/150\n",
            "157/157 [==============================] - 6s 41ms/step - loss: 0.0815 - accuracy: 0.9738 - val_loss: 2.0853 - val_accuracy: 0.6743\n",
            "Epoch 147/150\n",
            "157/157 [==============================] - 6s 41ms/step - loss: 0.0718 - accuracy: 0.9747 - val_loss: 2.0036 - val_accuracy: 0.6971\n",
            "Epoch 148/150\n",
            "157/157 [==============================] - 6s 41ms/step - loss: 0.0799 - accuracy: 0.9743 - val_loss: 1.9838 - val_accuracy: 0.6915\n",
            "Epoch 149/150\n",
            "157/157 [==============================] - 7s 42ms/step - loss: 0.0763 - accuracy: 0.9737 - val_loss: 2.0101 - val_accuracy: 0.7063\n",
            "Epoch 150/150\n",
            "157/157 [==============================] - 6s 41ms/step - loss: 0.0816 - accuracy: 0.9713 - val_loss: 2.0184 - val_accuracy: 0.6799\n"
          ],
          "name": "stdout"
        }
      ]
    },
    {
      "cell_type": "code",
      "metadata": {
        "id": "WcZ4DauPNlMA",
        "colab": {
          "base_uri": "https://localhost:8080/",
          "height": 592
        },
        "outputId": "c319ad0c-eff9-4f1f-b86a-155fc7dcd342"
      },
      "source": [
        "print(history.history.keys())\n",
        "#history for accuracy\n",
        "plt.plot(history.history['accuracy'])\n",
        "plt.plot(history.history['val_accuracy'])\n",
        "plt.title('model accuracy')\n",
        "plt.ylabel('accuracy')\n",
        "plt.xlabel('epoch')\n",
        "plt.legend(['train', 'test'], loc='lower right')\n",
        "plt.savefig('acc_3.png', dpi=300, bbox_inches='tight')\n",
        "plt.show()\n",
        "\n",
        "#history for loss\n",
        "plt.plot(history.history['loss'])\n",
        "plt.plot(history.history['val_loss'])\n",
        "plt.title('model loss')\n",
        "plt.ylabel('loss')\n",
        "plt.xlabel('epoch')\n",
        "plt.legend(['train', 'test'], loc='upper right')\n",
        "plt.savefig('loss_3.png', dpi=300, bbox_inches='tight')\n",
        "plt.show()\n"
      ],
      "execution_count": null,
      "outputs": [
        {
          "output_type": "stream",
          "text": [
            "dict_keys(['loss', 'accuracy', 'val_loss', 'val_accuracy'])\n"
          ],
          "name": "stdout"
        },
        {
          "output_type": "display_data",
          "data": {
            "image/png": "[encoded data removed]",
            "text/plain": [
              "<Figure size 432x288 with 1 Axes>"
            ]
          },
          "metadata": {
            "tags": [],
            "needs_background": "light"
          }
        },
        {
          "output_type": "display_data",
          "data": {
            "image/png": "[encoded data removed]",
            "text/plain": [
              "<Figure size 432x288 with 1 Axes>"
            ]
          },
          "metadata": {
            "tags": [],
            "needs_background": "light"
          }
        }
      ]
    },
    {
      "cell_type": "markdown",
      "metadata": {
        "id": "f2gTvZw60J9I"
      },
      "source": [
        "# Visualize training,validation history"
      ]
    },
    {
      "cell_type": "markdown",
      "metadata": {
        "id": "JL8675eR5HhV"
      },
      "source": [
        "#Save model weights [ h5 ]"
      ]
    },
    {
      "cell_type": "code",
      "metadata": {
        "id": "8ye4794q94bq",
        "colab": {
          "base_uri": "https://localhost:8080/"
        },
        "outputId": "a7c68510-18df-47e9-a7d0-d741b5392494"
      },
      "source": [
        "model.save_weights(\"model_3.h5\")\n",
        "print(\"save model to disk\")"
      ],
      "execution_count": null,
      "outputs": [
        {
          "output_type": "stream",
          "text": [
            "save model to disk\n"
          ],
          "name": "stdout"
        }
      ]
    },
    {
      "cell_type": "markdown",
      "metadata": {
        "id": "6gcV610516Di"
      },
      "source": [
        "#Save model architecture [ JSON ]"
      ]
    },
    {
      "cell_type": "code",
      "metadata": {
        "id": "RI1qsp1h17sH"
      },
      "source": [
        "model_json = model.to_json()\n",
        "with open(\"model_3.json\",\"w\") as json_file:\n",
        "     json_file.write(model_json)"
      ],
      "execution_count": null,
      "outputs": []
    }
  ]
}