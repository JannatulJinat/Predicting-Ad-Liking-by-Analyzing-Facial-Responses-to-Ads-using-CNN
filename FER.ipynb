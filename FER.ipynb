{
  "nbformat": 4,
  "nbformat_minor": 0,
  "metadata": {
    "colab": {
      "name": "31st may.ipynb",
      "provenance": [],
      "collapsed_sections": [],
      "toc_visible": true,
      "authorship_tag": "ABX9TyN27lpaj5YFql0lKpe+AY9D",
      "include_colab_link": true
    },
    "kernelspec": {
      "name": "python3",
      "display_name": "Python 3"
    },
    "accelerator": "GPU"
  },
  "cells": [
    {
      "cell_type": "markdown",
      "metadata": {
        "id": "view-in-github",
        "colab_type": "text"
      },
      "source": [
        "<a href=\"https://colab.research.google.com/github/JannatulJinat/Real-Time-Facial-Expression-Recognition/blob/master/FER.ipynb\" target=\"_parent\"><img src=\"https://colab.research.google.com/assets/colab-badge.svg\" alt=\"Open In Colab\"/></a>"
      ]
    },
    {
      "cell_type": "markdown",
      "metadata": {
        "id": "D51Z7hxuqxsP",
        "colab_type": "text"
      },
      "source": [
        "config\n",
        "Runtime ->Change runtime type ->select GPU"
      ]
    },
    {
      "cell_type": "markdown",
      "metadata": {
        "id": "O6LVHiqMqYsW",
        "colab_type": "text"
      },
      "source": [
        "#Mount Drive"
      ]
    },
    {
      "cell_type": "code",
      "metadata": {
        "id": "5G7peFnSqW7b",
        "colab_type": "code",
        "colab": {
          "base_uri": "https://localhost:8080/",
          "height": 132
        },
        "outputId": "7e4647c3-4c2c-4f4c-9a2f-d3d41a42b829"
      },
      "source": [
        "from google.colab import drive\n",
        "drive.mount('/content/drive')"
      ],
      "execution_count": 1,
      "outputs": [
        {
          "output_type": "stream",
          "text": [
            "Go to this URL in a browser: https://accounts.google.com/o/oauth2/auth?client_id=947318989803-6bn6qk8qdgf4n4g3pfee6491hc0brc4i.apps.googleusercontent.com&redirect_uri=urn%3aietf%3awg%3aoauth%3a2.0%3aoob&response_type=code&scope=email%20https%3a%2f%2fwww.googleapis.com%2fauth%2fdocs.test%20https%3a%2f%2fwww.googleapis.com%2fauth%2fdrive%20https%3a%2f%2fwww.googleapis.com%2fauth%2fdrive.photos.readonly%20https%3a%2f%2fwww.googleapis.com%2fauth%2fpeopleapi.readonly\n",
            "\n",
            "Enter your authorization code:\n",
            "··········\n",
            "Mounted at /content/drive\n"
          ],
          "name": "stdout"
        }
      ]
    },
    {
      "cell_type": "markdown",
      "metadata": {
        "id": "1GrCOIgjrE-v",
        "colab_type": "text"
      },
      "source": [
        "Ignore all warnings"
      ]
    },
    {
      "cell_type": "code",
      "metadata": {
        "id": "qorhy-AhrH1f",
        "colab_type": "code",
        "colab": {}
      },
      "source": [
        "import warnings\n",
        "warnings.filterwarnings(\"ignore\")"
      ],
      "execution_count": 2,
      "outputs": []
    },
    {
      "cell_type": "markdown",
      "metadata": {
        "id": "8Itb9f4qsLA_",
        "colab_type": "text"
      },
      "source": [
        "Unzip data"
      ]
    },
    {
      "cell_type": "code",
      "metadata": {
        "id": "D71l21TJsTvc",
        "colab_type": "code",
        "colab": {
          "base_uri": "https://localhost:8080/",
          "height": 36
        },
        "outputId": "5378b67a-271c-47cd-951c-117f7c03ebd1"
      },
      "source": [
        "from zipfile import ZipFile\n",
        "file_path = \"/content/drive/My Drive/Colab Notebooks/Thesis/image_data.zip\"\n",
        "with ZipFile(file_path,'r') as zip:\n",
        "    zip.extractall()\n",
        "    print(\"Done\") "
      ],
      "execution_count": 3,
      "outputs": [
        {
          "output_type": "stream",
          "text": [
            "Done\n"
          ],
          "name": "stdout"
        }
      ]
    },
    {
      "cell_type": "markdown",
      "metadata": {
        "id": "ThkuevyFtEos",
        "colab_type": "text"
      },
      "source": [
        "#Count data "
      ]
    },
    {
      "cell_type": "code",
      "metadata": {
        "id": "rCVe2ItEtM-a",
        "colab_type": "code",
        "colab": {
          "base_uri": "https://localhost:8080/",
          "height": 150
        },
        "outputId": "e8c8374e-1b5e-41fb-981f-6fd4d5ac3689"
      },
      "source": [
        "import os\n",
        "for expression in os.listdir(\"/content/image_data/train\"):\n",
        "    print(expression +\" \"+str(len(os.listdir(\"/content/image_data/train/\"+expression)))+\" \"+\"images \")"
      ],
      "execution_count": 4,
      "outputs": [
        {
          "output_type": "stream",
          "text": [
            "happiness 1440 images \n",
            "disgust 1440 images \n",
            "sadness 1440 images \n",
            "fear 1440 images \n",
            "anger 1440 images \n",
            "surprise 1440 images \n",
            "neutral 1440 images \n"
          ],
          "name": "stdout"
        }
      ]
    },
    {
      "cell_type": "markdown",
      "metadata": {
        "id": "5-eBA5rfwuK6",
        "colab_type": "text"
      },
      "source": [
        "#Data Augmentation"
      ]
    },
    {
      "cell_type": "code",
      "metadata": {
        "id": "4wtA30IDwt6P",
        "colab_type": "code",
        "colab": {
          "base_uri": "https://localhost:8080/",
          "height": 55
        },
        "outputId": "3d1e5c0f-4ccc-41dd-83d2-28d08898e5f1"
      },
      "source": [
        "from tensorflow.keras.preprocessing.image import ImageDataGenerator\n",
        "image_size = 48\n",
        "batch_size = 64\n",
        "\n",
        "datagen_train = ImageDataGenerator(\n",
        "                            rescale=1./255,\n",
        "                            zoom_range=0.1,\n",
        "                            rotation_range=10,\n",
        "                            width_shift_range=0.1,\n",
        "                            height_shift_range=0.1,\n",
        "                            horizontal_flip=True)\n",
        "\n",
        "train_generator = datagen_train.flow_from_directory(\"/content/image_data/train/\",\n",
        "                                                    target_size=(image_size,image_size),\n",
        "                                                    color_mode=\"grayscale\",\n",
        "                                                    batch_size=batch_size,\n",
        "                                                    class_mode='categorical',\n",
        "                                                    shuffle=True)\n",
        "\n",
        "datagen_validation = ImageDataGenerator(\n",
        "                            rescale=1./255,\n",
        "                            zoom_range=0.1,\n",
        "                            rotation_range=10,\n",
        "                            width_shift_range=0.1,\n",
        "                            height_shift_range=0.1,\n",
        "                            horizontal_flip=True)\n",
        "\n",
        "validation_generator = datagen_validation.flow_from_directory(\"/content/image_data/validation/\",\n",
        "                                                    target_size=(image_size,image_size),\n",
        "                                                    color_mode=\"grayscale\",\n",
        "                                                    batch_size=batch_size,\n",
        "                                                    class_mode='categorical',\n",
        "                                                    shuffle=True)"
      ],
      "execution_count": 5,
      "outputs": [
        {
          "output_type": "stream",
          "text": [
            "Found 10080 images belonging to 7 classes.\n",
            "Found 2520 images belonging to 7 classes.\n"
          ],
          "name": "stdout"
        }
      ]
    },
    {
      "cell_type": "code",
      "metadata": {
        "id": "lyAl9YAkrNLl",
        "colab_type": "code",
        "colab": {}
      },
      "source": [
        "import numpy as np\n",
        "import pandas as pd\n",
        "import matplotlib.pyplot as plt\n",
        "import tensorflow as tf\n",
        "\n",
        "from tensorflow.keras.models import Sequential\n",
        "from tensorflow.keras.layers import Dense, Dropout,Flatten, Conv2D\n",
        "from tensorflow.keras.layers import BatchNormalization, MaxPooling2D\n",
        "from tensorflow.keras.callbacks import ModelCheckpoint, ReduceLROnPlateau\n",
        "from tensorflow.keras.optimizers import Adam\n",
        "#from livelossplot.tf_keras import PlotLossesCallback\n"
      ],
      "execution_count": 7,
      "outputs": []
    },
    {
      "cell_type": "markdown",
      "metadata": {
        "id": "dQOKGM0RyDje",
        "colab_type": "text"
      },
      "source": [
        "#Hyperparameter Tuning"
      ]
    },
    {
      "cell_type": "code",
      "metadata": {
        "id": "nQ8dWSJTyGRZ",
        "colab_type": "code",
        "colab": {}
      },
      "source": [
        "epochs = 120\n",
        "lr = 0.001\n",
        "loss = \"categorical_crossentropy\"\n",
        "optimizer = Adam(learning_rate =lr )"
      ],
      "execution_count": 12,
      "outputs": []
    },
    {
      "cell_type": "code",
      "metadata": {
        "id": "4yQ3wYQ0vU7y",
        "colab_type": "code",
        "colab": {}
      },
      "source": [
        "model = Sequential()\n",
        "\n",
        "model.add(Conv2D(32 ,(5,5),activation='relu',padding='same',input_shape = (48,48,1)))\n",
        "model.add(BatchNormalization())\n",
        "model.add(Conv2D(32,(5,5),padding='same',activation='relu'))\n",
        "model.add(BatchNormalization())\n",
        "model.add(MaxPooling2D(pool_size=(2,2)))\n",
        "\n",
        "model.add(Conv2D(64,(3,3),padding='same',activation='relu'))\n",
        "model.add(BatchNormalization())\n",
        "model.add(Conv2D(64,(3,3),padding='same',activation='relu'))\n",
        "model.add(BatchNormalization())\n",
        "model.add(MaxPooling2D(pool_size=(2,2)))\n",
        "\n",
        "\n",
        "model.add(Flatten())\n",
        "model.add(Dense(1024,activation='relu'))\n",
        "model.add(Dense(1024,activation='relu'))\n",
        "model.add(Dropout(0.25))\n",
        "model.add(Dense(7,activation='softmax'))\n",
        "\n",
        "model.compile(optimizer =optimizer,loss = loss,metrics = ['accuracy'] )\n",
        "#model.summary()"
      ],
      "execution_count": 13,
      "outputs": []
    },
    {
      "cell_type": "code",
      "metadata": {
        "id": "CKGFabBGyjsE",
        "colab_type": "code",
        "colab": {
          "base_uri": "https://localhost:8080/",
          "height": 1000
        },
        "outputId": "5a5a985a-a9e8-4820-b800-1cbbe1667257"
      },
      "source": [
        "print(train_generator.n)\n",
        "print(validation_generator.n)\n",
        "steps_per_epoch = train_generator.n //train_generator.batch_size\n",
        "validation_steps = validation_generator.n // validation_generator.batch_size\n",
        "\n",
        "reduce_lr = ReduceLROnPlateau(\n",
        "                              monitor = 'val_loss',\n",
        "                              factor = 0.1,\n",
        "                              patience = 2,\n",
        "                              min_lr = 0.00001,\n",
        "                              mode = 'auto')\n",
        "\n",
        "checkpoint = ModelCheckpoint(\n",
        "                            \"model_weight.h5\",\n",
        "                             monitor = 'val_acc',\n",
        "                             save_weights_only = True,\n",
        "                             mode = 'max',\n",
        "                             verbose = 1)\n",
        "\n",
        "#callbacks = [PlotLossesCallback,checkpoint,reduce_lr]\n",
        "\n",
        "history = model.fit_generator( train_generator,\n",
        "                    steps_per_epoch = steps_per_epoch,\n",
        "                    validation_data = validation_generator,\n",
        "                    validation_steps = validation_steps,\n",
        "                    epochs = epochs)"
      ],
      "execution_count": 14,
      "outputs": [
        {
          "output_type": "stream",
          "text": [
            "10080\n",
            "2520\n",
            "Epoch 1/120\n",
            "157/157 [==============================] - 8s 53ms/step - loss: 2.3179 - accuracy: 0.2694 - val_loss: 8.1879 - val_accuracy: 0.1438\n",
            "Epoch 2/120\n",
            "157/157 [==============================] - 8s 52ms/step - loss: 1.6556 - accuracy: 0.3354 - val_loss: 2.2726 - val_accuracy: 0.1514\n",
            "Epoch 3/120\n",
            "157/157 [==============================] - 8s 52ms/step - loss: 1.5225 - accuracy: 0.4013 - val_loss: 1.5067 - val_accuracy: 0.3926\n",
            "Epoch 4/120\n",
            "157/157 [==============================] - 8s 52ms/step - loss: 1.4393 - accuracy: 0.4419 - val_loss: 1.4253 - val_accuracy: 0.4215\n",
            "Epoch 5/120\n",
            "157/157 [==============================] - 8s 52ms/step - loss: 1.3528 - accuracy: 0.4688 - val_loss: 1.3806 - val_accuracy: 0.4688\n",
            "Epoch 6/120\n",
            "157/157 [==============================] - 8s 52ms/step - loss: 1.2745 - accuracy: 0.5158 - val_loss: 1.3410 - val_accuracy: 0.4732\n",
            "Epoch 7/120\n",
            "157/157 [==============================] - 9s 54ms/step - loss: 1.2089 - accuracy: 0.5312 - val_loss: 1.3019 - val_accuracy: 0.4712\n",
            "Epoch 8/120\n",
            "157/157 [==============================] - 8s 52ms/step - loss: 1.1605 - accuracy: 0.5533 - val_loss: 1.1777 - val_accuracy: 0.5272\n",
            "Epoch 9/120\n",
            "157/157 [==============================] - 8s 52ms/step - loss: 1.1087 - accuracy: 0.5860 - val_loss: 1.1513 - val_accuracy: 0.5553\n",
            "Epoch 10/120\n",
            "157/157 [==============================] - 8s 52ms/step - loss: 1.0662 - accuracy: 0.5950 - val_loss: 1.1255 - val_accuracy: 0.5549\n",
            "Epoch 11/120\n",
            "157/157 [==============================] - 8s 52ms/step - loss: 1.0067 - accuracy: 0.6214 - val_loss: 1.2092 - val_accuracy: 0.5232\n",
            "Epoch 12/120\n",
            "157/157 [==============================] - 8s 53ms/step - loss: 0.9683 - accuracy: 0.6323 - val_loss: 0.9536 - val_accuracy: 0.6374\n",
            "Epoch 13/120\n",
            "157/157 [==============================] - 8s 51ms/step - loss: 0.9179 - accuracy: 0.6554 - val_loss: 1.1079 - val_accuracy: 0.5533\n",
            "Epoch 14/120\n",
            "157/157 [==============================] - 8s 51ms/step - loss: 0.9098 - accuracy: 0.6633 - val_loss: 1.0357 - val_accuracy: 0.6022\n",
            "Epoch 15/120\n",
            "157/157 [==============================] - 8s 52ms/step - loss: 0.8696 - accuracy: 0.6793 - val_loss: 1.1510 - val_accuracy: 0.5537\n",
            "Epoch 16/120\n",
            "157/157 [==============================] - 8s 52ms/step - loss: 0.8446 - accuracy: 0.6922 - val_loss: 1.0007 - val_accuracy: 0.6158\n",
            "Epoch 17/120\n",
            "157/157 [==============================] - 8s 52ms/step - loss: 0.8249 - accuracy: 0.6901 - val_loss: 0.9247 - val_accuracy: 0.6374\n",
            "Epoch 18/120\n",
            "157/157 [==============================] - 8s 52ms/step - loss: 0.7942 - accuracy: 0.7066 - val_loss: 0.9222 - val_accuracy: 0.6631\n",
            "Epoch 19/120\n",
            "157/157 [==============================] - 8s 51ms/step - loss: 0.7680 - accuracy: 0.7125 - val_loss: 0.9489 - val_accuracy: 0.6526\n",
            "Epoch 20/120\n",
            "157/157 [==============================] - 8s 53ms/step - loss: 0.7495 - accuracy: 0.7281 - val_loss: 1.0469 - val_accuracy: 0.6422\n",
            "Epoch 21/120\n",
            "157/157 [==============================] - 8s 51ms/step - loss: 0.7256 - accuracy: 0.7318 - val_loss: 0.9162 - val_accuracy: 0.6643\n",
            "Epoch 22/120\n",
            "157/157 [==============================] - 8s 54ms/step - loss: 0.7034 - accuracy: 0.7416 - val_loss: 0.9243 - val_accuracy: 0.6691\n",
            "Epoch 23/120\n",
            "157/157 [==============================] - 8s 52ms/step - loss: 0.6922 - accuracy: 0.7451 - val_loss: 1.0644 - val_accuracy: 0.6258\n",
            "Epoch 24/120\n",
            "157/157 [==============================] - 8s 52ms/step - loss: 0.6623 - accuracy: 0.7576 - val_loss: 0.9931 - val_accuracy: 0.6490\n",
            "Epoch 25/120\n",
            "157/157 [==============================] - 8s 52ms/step - loss: 0.6671 - accuracy: 0.7550 - val_loss: 0.8688 - val_accuracy: 0.6879\n",
            "Epoch 26/120\n",
            "157/157 [==============================] - 8s 51ms/step - loss: 0.6433 - accuracy: 0.7672 - val_loss: 0.9181 - val_accuracy: 0.6743\n",
            "Epoch 27/120\n",
            "157/157 [==============================] - 8s 52ms/step - loss: 0.6185 - accuracy: 0.7729 - val_loss: 1.1323 - val_accuracy: 0.6134\n",
            "Epoch 28/120\n",
            "157/157 [==============================] - 8s 52ms/step - loss: 0.6154 - accuracy: 0.7742 - val_loss: 0.8930 - val_accuracy: 0.6835\n",
            "Epoch 29/120\n",
            "157/157 [==============================] - 8s 53ms/step - loss: 0.6071 - accuracy: 0.7794 - val_loss: 0.9341 - val_accuracy: 0.6799\n",
            "Epoch 30/120\n",
            "157/157 [==============================] - 8s 53ms/step - loss: 0.5968 - accuracy: 0.7808 - val_loss: 0.8620 - val_accuracy: 0.7011\n",
            "Epoch 31/120\n",
            "157/157 [==============================] - 8s 53ms/step - loss: 0.5699 - accuracy: 0.7963 - val_loss: 1.1311 - val_accuracy: 0.6290\n",
            "Epoch 32/120\n",
            "157/157 [==============================] - 8s 53ms/step - loss: 0.5698 - accuracy: 0.7947 - val_loss: 0.9711 - val_accuracy: 0.6807\n",
            "Epoch 33/120\n",
            "157/157 [==============================] - 8s 52ms/step - loss: 0.5513 - accuracy: 0.7967 - val_loss: 0.9143 - val_accuracy: 0.7007\n",
            "Epoch 34/120\n",
            "157/157 [==============================] - 8s 53ms/step - loss: 0.5467 - accuracy: 0.8036 - val_loss: 1.0472 - val_accuracy: 0.6651\n",
            "Epoch 35/120\n",
            "157/157 [==============================] - 8s 52ms/step - loss: 0.5286 - accuracy: 0.8100 - val_loss: 0.9564 - val_accuracy: 0.6975\n",
            "Epoch 36/120\n",
            "157/157 [==============================] - 8s 52ms/step - loss: 0.5223 - accuracy: 0.8102 - val_loss: 0.9437 - val_accuracy: 0.6891\n",
            "Epoch 37/120\n",
            "157/157 [==============================] - 8s 52ms/step - loss: 0.5044 - accuracy: 0.8192 - val_loss: 1.0247 - val_accuracy: 0.6807\n",
            "Epoch 38/120\n",
            "157/157 [==============================] - 8s 53ms/step - loss: 0.5110 - accuracy: 0.8165 - val_loss: 0.9403 - val_accuracy: 0.6919\n",
            "Epoch 39/120\n",
            "157/157 [==============================] - 8s 53ms/step - loss: 0.4743 - accuracy: 0.8326 - val_loss: 0.9577 - val_accuracy: 0.7039\n",
            "Epoch 40/120\n",
            "157/157 [==============================] - 8s 52ms/step - loss: 0.4786 - accuracy: 0.8280 - val_loss: 1.0328 - val_accuracy: 0.6747\n",
            "Epoch 41/120\n",
            "157/157 [==============================] - 8s 54ms/step - loss: 0.4565 - accuracy: 0.8324 - val_loss: 1.1012 - val_accuracy: 0.6743\n",
            "Epoch 42/120\n",
            "157/157 [==============================] - 8s 53ms/step - loss: 0.4603 - accuracy: 0.8362 - val_loss: 0.9566 - val_accuracy: 0.6907\n",
            "Epoch 43/120\n",
            "157/157 [==============================] - 8s 53ms/step - loss: 0.4436 - accuracy: 0.8433 - val_loss: 1.0139 - val_accuracy: 0.6987\n",
            "Epoch 44/120\n",
            "157/157 [==============================] - 8s 54ms/step - loss: 0.4455 - accuracy: 0.8439 - val_loss: 1.1109 - val_accuracy: 0.6855\n",
            "Epoch 45/120\n",
            "157/157 [==============================] - 9s 55ms/step - loss: 0.4390 - accuracy: 0.8421 - val_loss: 1.1427 - val_accuracy: 0.6771\n",
            "Epoch 46/120\n",
            "157/157 [==============================] - 8s 52ms/step - loss: 0.4320 - accuracy: 0.8548 - val_loss: 0.9189 - val_accuracy: 0.7175\n",
            "Epoch 47/120\n",
            "157/157 [==============================] - 8s 53ms/step - loss: 0.4039 - accuracy: 0.8566 - val_loss: 1.1542 - val_accuracy: 0.6498\n",
            "Epoch 48/120\n",
            "157/157 [==============================] - 8s 53ms/step - loss: 0.4198 - accuracy: 0.8519 - val_loss: 0.9276 - val_accuracy: 0.7103\n",
            "Epoch 49/120\n",
            "157/157 [==============================] - 8s 53ms/step - loss: 0.4109 - accuracy: 0.8549 - val_loss: 0.9728 - val_accuracy: 0.7095\n",
            "Epoch 50/120\n",
            "157/157 [==============================] - 8s 52ms/step - loss: 0.3994 - accuracy: 0.8584 - val_loss: 0.9755 - val_accuracy: 0.7131\n",
            "Epoch 51/120\n",
            "157/157 [==============================] - 8s 54ms/step - loss: 0.3784 - accuracy: 0.8649 - val_loss: 1.0795 - val_accuracy: 0.6963\n",
            "Epoch 52/120\n",
            "157/157 [==============================] - 8s 53ms/step - loss: 0.3845 - accuracy: 0.8668 - val_loss: 0.9826 - val_accuracy: 0.7087\n",
            "Epoch 53/120\n",
            "157/157 [==============================] - 8s 52ms/step - loss: 0.3736 - accuracy: 0.8648 - val_loss: 0.9615 - val_accuracy: 0.7208\n",
            "Epoch 54/120\n",
            "157/157 [==============================] - 8s 53ms/step - loss: 0.3693 - accuracy: 0.8708 - val_loss: 0.9394 - val_accuracy: 0.7300\n",
            "Epoch 55/120\n",
            "157/157 [==============================] - 8s 53ms/step - loss: 0.3636 - accuracy: 0.8681 - val_loss: 1.0227 - val_accuracy: 0.7055\n",
            "Epoch 56/120\n",
            "157/157 [==============================] - 8s 52ms/step - loss: 0.3633 - accuracy: 0.8725 - val_loss: 1.2076 - val_accuracy: 0.6843\n",
            "Epoch 57/120\n",
            "157/157 [==============================] - 8s 53ms/step - loss: 0.3627 - accuracy: 0.8739 - val_loss: 1.0703 - val_accuracy: 0.6827\n",
            "Epoch 58/120\n",
            "157/157 [==============================] - 8s 53ms/step - loss: 0.3510 - accuracy: 0.8779 - val_loss: 1.1592 - val_accuracy: 0.6963\n",
            "Epoch 59/120\n",
            "157/157 [==============================] - 8s 53ms/step - loss: 0.3439 - accuracy: 0.8794 - val_loss: 1.0823 - val_accuracy: 0.7123\n",
            "Epoch 60/120\n",
            "157/157 [==============================] - 8s 53ms/step - loss: 0.3476 - accuracy: 0.8808 - val_loss: 1.1561 - val_accuracy: 0.6707\n",
            "Epoch 61/120\n",
            "157/157 [==============================] - 8s 53ms/step - loss: 0.3223 - accuracy: 0.8835 - val_loss: 0.9929 - val_accuracy: 0.7316\n",
            "Epoch 62/120\n",
            "157/157 [==============================] - 8s 53ms/step - loss: 0.3334 - accuracy: 0.8820 - val_loss: 0.9870 - val_accuracy: 0.7179\n",
            "Epoch 63/120\n",
            "157/157 [==============================] - 8s 53ms/step - loss: 0.3259 - accuracy: 0.8893 - val_loss: 1.0865 - val_accuracy: 0.7192\n",
            "Epoch 64/120\n",
            "157/157 [==============================] - 8s 53ms/step - loss: 0.3271 - accuracy: 0.8880 - val_loss: 1.3334 - val_accuracy: 0.7035\n",
            "Epoch 65/120\n",
            "157/157 [==============================] - 8s 54ms/step - loss: 0.3184 - accuracy: 0.8895 - val_loss: 1.3494 - val_accuracy: 0.6571\n",
            "Epoch 66/120\n",
            "157/157 [==============================] - 8s 53ms/step - loss: 0.3155 - accuracy: 0.8902 - val_loss: 0.9929 - val_accuracy: 0.7356\n",
            "Epoch 67/120\n",
            "157/157 [==============================] - 8s 53ms/step - loss: 0.3037 - accuracy: 0.8961 - val_loss: 1.2231 - val_accuracy: 0.6835\n",
            "Epoch 68/120\n",
            "157/157 [==============================] - 8s 54ms/step - loss: 0.2904 - accuracy: 0.8982 - val_loss: 1.0875 - val_accuracy: 0.7188\n",
            "Epoch 69/120\n",
            "157/157 [==============================] - 8s 54ms/step - loss: 0.3130 - accuracy: 0.8897 - val_loss: 0.9511 - val_accuracy: 0.7336\n",
            "Epoch 70/120\n",
            "157/157 [==============================] - 8s 54ms/step - loss: 0.2840 - accuracy: 0.9018 - val_loss: 1.0393 - val_accuracy: 0.7272\n",
            "Epoch 71/120\n",
            "157/157 [==============================] - 8s 53ms/step - loss: 0.3021 - accuracy: 0.8966 - val_loss: 1.0707 - val_accuracy: 0.7179\n",
            "Epoch 72/120\n",
            "157/157 [==============================] - 8s 53ms/step - loss: 0.2944 - accuracy: 0.8998 - val_loss: 1.3060 - val_accuracy: 0.7123\n",
            "Epoch 73/120\n",
            "157/157 [==============================] - 8s 52ms/step - loss: 0.2783 - accuracy: 0.9033 - val_loss: 1.1487 - val_accuracy: 0.7071\n",
            "Epoch 74/120\n",
            "157/157 [==============================] - 8s 53ms/step - loss: 0.2786 - accuracy: 0.9019 - val_loss: 1.0569 - val_accuracy: 0.7123\n",
            "Epoch 75/120\n",
            "157/157 [==============================] - 8s 53ms/step - loss: 0.2761 - accuracy: 0.9051 - val_loss: 1.1113 - val_accuracy: 0.7416\n",
            "Epoch 76/120\n",
            "157/157 [==============================] - 8s 53ms/step - loss: 0.2556 - accuracy: 0.9129 - val_loss: 1.1614 - val_accuracy: 0.7288\n",
            "Epoch 77/120\n",
            "157/157 [==============================] - 8s 53ms/step - loss: 0.2766 - accuracy: 0.9057 - val_loss: 1.1991 - val_accuracy: 0.7043\n",
            "Epoch 78/120\n",
            "157/157 [==============================] - 8s 53ms/step - loss: 0.2544 - accuracy: 0.9117 - val_loss: 1.0367 - val_accuracy: 0.7280\n",
            "Epoch 79/120\n",
            "157/157 [==============================] - 8s 54ms/step - loss: 0.2462 - accuracy: 0.9121 - val_loss: 1.1346 - val_accuracy: 0.7244\n",
            "Epoch 80/120\n",
            "157/157 [==============================] - 8s 54ms/step - loss: 0.2586 - accuracy: 0.9090 - val_loss: 1.0969 - val_accuracy: 0.7284\n",
            "Epoch 81/120\n",
            "157/157 [==============================] - 8s 54ms/step - loss: 0.2419 - accuracy: 0.9164 - val_loss: 1.1478 - val_accuracy: 0.7248\n",
            "Epoch 82/120\n",
            "157/157 [==============================] - 9s 55ms/step - loss: 0.2612 - accuracy: 0.9144 - val_loss: 1.0939 - val_accuracy: 0.7312\n",
            "Epoch 83/120\n",
            "157/157 [==============================] - 8s 53ms/step - loss: 0.2507 - accuracy: 0.9141 - val_loss: 1.2998 - val_accuracy: 0.6999\n",
            "Epoch 84/120\n",
            "157/157 [==============================] - 8s 53ms/step - loss: 0.2506 - accuracy: 0.9155 - val_loss: 1.2903 - val_accuracy: 0.6939\n",
            "Epoch 85/120\n",
            "157/157 [==============================] - 8s 53ms/step - loss: 0.2412 - accuracy: 0.9151 - val_loss: 1.1660 - val_accuracy: 0.7268\n",
            "Epoch 86/120\n",
            "157/157 [==============================] - 8s 53ms/step - loss: 0.2487 - accuracy: 0.9169 - val_loss: 1.1668 - val_accuracy: 0.7015\n",
            "Epoch 87/120\n",
            "157/157 [==============================] - 8s 53ms/step - loss: 0.2434 - accuracy: 0.9186 - val_loss: 1.1699 - val_accuracy: 0.7248\n",
            "Epoch 88/120\n",
            "157/157 [==============================] - 8s 53ms/step - loss: 0.2455 - accuracy: 0.9142 - val_loss: 1.2027 - val_accuracy: 0.7095\n",
            "Epoch 89/120\n",
            "157/157 [==============================] - 9s 54ms/step - loss: 0.2361 - accuracy: 0.9176 - val_loss: 1.2070 - val_accuracy: 0.7196\n",
            "Epoch 90/120\n",
            "157/157 [==============================] - 8s 53ms/step - loss: 0.2533 - accuracy: 0.9126 - val_loss: 1.2146 - val_accuracy: 0.7196\n",
            "Epoch 91/120\n",
            "157/157 [==============================] - 8s 53ms/step - loss: 0.2331 - accuracy: 0.9242 - val_loss: 1.2510 - val_accuracy: 0.7171\n",
            "Epoch 92/120\n",
            "157/157 [==============================] - 8s 53ms/step - loss: 0.2326 - accuracy: 0.9218 - val_loss: 1.2089 - val_accuracy: 0.7175\n",
            "Epoch 93/120\n",
            "157/157 [==============================] - 8s 53ms/step - loss: 0.2360 - accuracy: 0.9159 - val_loss: 1.2162 - val_accuracy: 0.7204\n",
            "Epoch 94/120\n",
            "157/157 [==============================] - 8s 53ms/step - loss: 0.2194 - accuracy: 0.9250 - val_loss: 1.0241 - val_accuracy: 0.7428\n",
            "Epoch 95/120\n",
            "157/157 [==============================] - 8s 54ms/step - loss: 0.2156 - accuracy: 0.9253 - val_loss: 1.2849 - val_accuracy: 0.7007\n",
            "Epoch 96/120\n",
            "157/157 [==============================] - 8s 54ms/step - loss: 0.2151 - accuracy: 0.9243 - val_loss: 1.1565 - val_accuracy: 0.7220\n",
            "Epoch 97/120\n",
            "157/157 [==============================] - 8s 54ms/step - loss: 0.2161 - accuracy: 0.9257 - val_loss: 1.1574 - val_accuracy: 0.7179\n",
            "Epoch 98/120\n",
            "157/157 [==============================] - 8s 54ms/step - loss: 0.2262 - accuracy: 0.9268 - val_loss: 1.0963 - val_accuracy: 0.7292\n",
            "Epoch 99/120\n",
            "157/157 [==============================] - 8s 54ms/step - loss: 0.2055 - accuracy: 0.9283 - val_loss: 1.1027 - val_accuracy: 0.7272\n",
            "Epoch 100/120\n",
            "157/157 [==============================] - 8s 54ms/step - loss: 0.1998 - accuracy: 0.9314 - val_loss: 1.2784 - val_accuracy: 0.7188\n",
            "Epoch 101/120\n",
            "157/157 [==============================] - 8s 54ms/step - loss: 0.2029 - accuracy: 0.9319 - val_loss: 1.1128 - val_accuracy: 0.7448\n",
            "Epoch 102/120\n",
            "157/157 [==============================] - 8s 53ms/step - loss: 0.2079 - accuracy: 0.9287 - val_loss: 1.2136 - val_accuracy: 0.7248\n",
            "Epoch 103/120\n",
            "157/157 [==============================] - 8s 54ms/step - loss: 0.2196 - accuracy: 0.9277 - val_loss: 1.2819 - val_accuracy: 0.7196\n",
            "Epoch 104/120\n",
            "157/157 [==============================] - 8s 53ms/step - loss: 0.2071 - accuracy: 0.9296 - val_loss: 1.2881 - val_accuracy: 0.7192\n",
            "Epoch 105/120\n",
            "157/157 [==============================] - 8s 53ms/step - loss: 0.2088 - accuracy: 0.9341 - val_loss: 1.1813 - val_accuracy: 0.7324\n",
            "Epoch 106/120\n",
            "157/157 [==============================] - 8s 53ms/step - loss: 0.1873 - accuracy: 0.9360 - val_loss: 1.1566 - val_accuracy: 0.7276\n",
            "Epoch 107/120\n",
            "157/157 [==============================] - 9s 55ms/step - loss: 0.1960 - accuracy: 0.9354 - val_loss: 1.3848 - val_accuracy: 0.7151\n",
            "Epoch 108/120\n",
            "157/157 [==============================] - 9s 54ms/step - loss: 0.1954 - accuracy: 0.9386 - val_loss: 1.1918 - val_accuracy: 0.7280\n",
            "Epoch 109/120\n",
            "157/157 [==============================] - 8s 53ms/step - loss: 0.2029 - accuracy: 0.9355 - val_loss: 1.2879 - val_accuracy: 0.7212\n",
            "Epoch 110/120\n",
            "157/157 [==============================] - 8s 54ms/step - loss: 0.2024 - accuracy: 0.9350 - val_loss: 1.3189 - val_accuracy: 0.7296\n",
            "Epoch 111/120\n",
            "157/157 [==============================] - 8s 54ms/step - loss: 0.1986 - accuracy: 0.9348 - val_loss: 1.3638 - val_accuracy: 0.7155\n",
            "Epoch 112/120\n",
            "157/157 [==============================] - 8s 53ms/step - loss: 0.1998 - accuracy: 0.9328 - val_loss: 1.2939 - val_accuracy: 0.7059\n",
            "Epoch 113/120\n",
            "157/157 [==============================] - 8s 54ms/step - loss: 0.1781 - accuracy: 0.9394 - val_loss: 1.1894 - val_accuracy: 0.7268\n",
            "Epoch 114/120\n",
            "157/157 [==============================] - 8s 54ms/step - loss: 0.1833 - accuracy: 0.9397 - val_loss: 1.3847 - val_accuracy: 0.7159\n",
            "Epoch 115/120\n",
            "157/157 [==============================] - 8s 54ms/step - loss: 0.1770 - accuracy: 0.9400 - val_loss: 1.1915 - val_accuracy: 0.7456\n",
            "Epoch 116/120\n",
            "157/157 [==============================] - 8s 54ms/step - loss: 0.1784 - accuracy: 0.9416 - val_loss: 1.2666 - val_accuracy: 0.7159\n",
            "Epoch 117/120\n",
            "157/157 [==============================] - 9s 54ms/step - loss: 0.1819 - accuracy: 0.9379 - val_loss: 1.2580 - val_accuracy: 0.7192\n",
            "Epoch 118/120\n",
            "157/157 [==============================] - 9s 56ms/step - loss: 0.1702 - accuracy: 0.9412 - val_loss: 1.2954 - val_accuracy: 0.7300\n",
            "Epoch 119/120\n",
            "157/157 [==============================] - 9s 55ms/step - loss: 0.1747 - accuracy: 0.9410 - val_loss: 1.2239 - val_accuracy: 0.7400\n",
            "Epoch 120/120\n",
            "157/157 [==============================] - 8s 53ms/step - loss: 0.1594 - accuracy: 0.9461 - val_loss: 1.2676 - val_accuracy: 0.7372\n"
          ],
          "name": "stdout"
        }
      ]
    },
    {
      "cell_type": "markdown",
      "metadata": {
        "id": "f2gTvZw60J9I",
        "colab_type": "text"
      },
      "source": [
        "# Visualize training,validation history"
      ]
    },
    {
      "cell_type": "code",
      "metadata": {
        "id": "AaxoWe2p0Ili",
        "colab_type": "code",
        "colab": {
          "base_uri": "https://localhost:8080/",
          "height": 592
        },
        "outputId": "e89eaddc-98c5-41d9-d7e0-e061fc5c9725"
      },
      "source": [
        "print(history.history.keys())\n",
        "#history for accuracy\n",
        "plt.plot(history.history['accuracy'])\n",
        "plt.plot(history.history['val_accuracy'])\n",
        "plt.title('model accuracy')\n",
        "plt.ylabel('accuracy')\n",
        "plt.xlabel('epoch')\n",
        "plt.legend(['train', 'test'], loc='upper left')\n",
        "plt.show()\n",
        "#history for loss\n",
        "plt.plot(history.history['loss'])\n",
        "plt.plot(history.history['val_loss'])\n",
        "plt.title('model loss')\n",
        "plt.ylabel('loss')\n",
        "plt.xlabel('epoch')\n",
        "plt.legend(['train', 'test'], loc='upper left')\n",
        "plt.show()"
      ],
      "execution_count": 15,
      "outputs": [
        {
          "output_type": "stream",
          "text": [
            "dict_keys(['loss', 'accuracy', 'val_loss', 'val_accuracy'])\n"
          ],
          "name": "stdout"
        },
        {
          "output_type": "display_data",
          "data": {
            "image/png": "[encoded data removed]",
            "text/plain": [
              "<Figure size 432x288 with 1 Axes>"
            ]
          },
          "metadata": {
            "tags": [],
            "needs_background": "light"
          }
        },
        {
          "output_type": "display_data",
          "data": {
            "image/png": "[encoded data removed]",
            "text/plain": [
              "<Figure size 432x288 with 1 Axes>"
            ]
          },
          "metadata": {
            "tags": [],
            "needs_background": "light"
          }
        }
      ]
    },
    {
      "cell_type": "markdown",
      "metadata": {
        "id": "6gcV610516Di",
        "colab_type": "text"
      },
      "source": [
        "#Save model architecture [ JSON ]"
      ]
    },
    {
      "cell_type": "code",
      "metadata": {
        "id": "RI1qsp1h17sH",
        "colab_type": "code",
        "colab": {}
      },
      "source": [
        "model_json = model.to_json()\n",
        "with open(\"model.json\",\"w\") as json_file:\n",
        "     json_file.write(model_json)"
      ],
      "execution_count": 16,
      "outputs": []
    },
    {
      "cell_type": "markdown",
      "metadata": {
        "id": "JL8675eR5HhV",
        "colab_type": "text"
      },
      "source": [
        "#Save model weights [ h5 ]"
      ]
    },
    {
      "cell_type": "code",
      "metadata": {
        "id": "8ye4794q94bq",
        "colab_type": "code",
        "colab": {
          "base_uri": "https://localhost:8080/",
          "height": 36
        },
        "outputId": "cf4f66e8-c09d-4034-a948-e108141b0cd2"
      },
      "source": [
        "model.save_weights(\"model_weights.h5\")\n",
        "print(\"save model to disk\")"
      ],
      "execution_count": 17,
      "outputs": [
        {
          "output_type": "stream",
          "text": [
            "save model to disk\n"
          ],
          "name": "stdout"
        }
      ]
    }
  ]
}